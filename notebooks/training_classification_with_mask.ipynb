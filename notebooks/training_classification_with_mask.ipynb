{
 "cells": [
  {
   "cell_type": "code",
   "execution_count": 3,
   "id": "d6be3a87",
   "metadata": {},
   "outputs": [],
   "source": [
    "import os\n",
    "import pandas as pd\n",
    "import config\n",
    "from utils.dataset import chest_xray_with_mask_datasplit, ChestXrayDatasetWithMask\n",
    "from utils.model import ChestXrayDenseNet121WithMask\n",
    "from utils.train import train, validate, compute_pos_weight\n",
    "import torch"
   ]
  },
  {
   "cell_type": "code",
   "execution_count": 4,
   "id": "b7d1db0b",
   "metadata": {},
   "outputs": [],
   "source": [
    "test_path = os.path.join(config.DATASET_DIR, 'miccai2023_nih-cxr-lt_labels_test.csv')\n",
    "train_path = os.path.join(config.DATASET_DIR, 'miccai2023_nih-cxr-lt_labels_train.csv')\n",
    "val_path = os.path.join(config.DATASET_DIR, 'miccai2023_nih-cxr-lt_labels_val.csv')\n",
    "\n",
    "# Load all CSVs\n",
    "df_train = pd.read_csv(train_path)\n",
    "df_val = pd.read_csv(val_path)\n",
    "df_test = pd.read_csv(test_path)\n",
    "\n",
    "# Combine them\n",
    "full_df = pd.concat([df_train, df_val, df_test], ignore_index=True)"
   ]
  },
  {
   "cell_type": "code",
   "execution_count": 5,
   "id": "16987a47",
   "metadata": {},
   "outputs": [],
   "source": [
    "from torch.utils.data import DataLoader\n",
    "device = torch.device(\"cuda:7\" if torch.cuda.is_available() else \"cpu\")\n",
    "full_dataset = ChestXrayDatasetWithMask(dataframe=full_df, img_dir=os.path.join(config.DATASET_DIR, 'cxr', 'images'), device=device)\n",
    "\n",
    "train_dataset, val_dataset, test_dataset = chest_xray_with_mask_datasplit(full_df, full_dataset, dataset_dir=os.path.join(config.DATASET_DIR, 'cxr', 'images'), device=device)\n",
    "\n",
    "train_loader = DataLoader(train_dataset, batch_size=32, shuffle=True)\n",
    "val_loader = DataLoader(val_dataset, batch_size=32, shuffle=False)\n",
    "test_loader = DataLoader(test_dataset, batch_size=32, shuffle=False)"
   ]
  },
  {
   "cell_type": "code",
   "execution_count": 6,
   "id": "574904d1",
   "metadata": {},
   "outputs": [],
   "source": [
    "# Initialize model\n",
    "model = ChestXrayDenseNet121WithMask(num_classes=19)"
   ]
  },
  {
   "cell_type": "code",
   "execution_count": 7,
   "id": "b0dfb52a",
   "metadata": {},
   "outputs": [],
   "source": [
    "def compute_pos_weight_from_df(full_df, label_cols):\n",
    "    num_samples = len(full_df)\n",
    "\n",
    "    # Sum positives per class\n",
    "    pos_counts = full_df[label_cols].sum().values  # shape [num_classes]\n",
    "    neg_counts = num_samples - pos_counts\n",
    "\n",
    "    pos_weight = neg_counts / (pos_counts + 1e-6)  # avoid div by zero\n",
    "    return torch.tensor(pos_weight, dtype=torch.float32)\n",
    "\n",
    "classes_df = full_df.drop(columns=['id', 'No Finding', 'subj_id'])\n",
    "pos_weight = compute_pos_weight_from_df(classes_df, list(classes_df.columns))"
   ]
  },
  {
   "cell_type": "code",
   "execution_count": 8,
   "id": "8d281265",
   "metadata": {},
   "outputs": [
    {
     "name": "stderr",
     "output_type": "stream",
     "text": [
      "Epoch 1/10:   0%|          | 0/2453 [00:00<?, ?it/s]/data/students/joshua_c/dev/PulmoScanX/.venv/lib/python3.13/site-packages/torch/nn/modules/instancenorm.py:115: UserWarning: input's size at dim=1 does not match num_features. You can silence this warning by not passing in num_features, which is not used because affine=False\n",
      "  warnings.warn(\n",
      "Epoch 1/10: 100%|██████████| 2453/2453 [52:40<00:00,  1.29s/it, loss=0.707]\n"
     ]
    },
    {
     "name": "stdout",
     "output_type": "stream",
     "text": [
      "\n",
      "Epoch 1 Training Loss: 1.1138\n",
      "Validation Loss: 1.0210\n",
      "F1: 0.1799 | AUC: 0.7396 | Accuracy: 0.2136\n",
      "\n"
     ]
    },
    {
     "name": "stderr",
     "output_type": "stream",
     "text": [
      "Epoch 2/10:   0%|          | 0/2453 [00:00<?, ?it/s]/data/students/joshua_c/dev/PulmoScanX/.venv/lib/python3.13/site-packages/torch/nn/modules/instancenorm.py:115: UserWarning: input's size at dim=1 does not match num_features. You can silence this warning by not passing in num_features, which is not used because affine=False\n",
      "  warnings.warn(\n",
      "Epoch 2/10: 100%|██████████| 2453/2453 [52:52<00:00,  1.29s/it, loss=0.893]\n"
     ]
    },
    {
     "name": "stdout",
     "output_type": "stream",
     "text": [
      "\n",
      "Epoch 2 Training Loss: 1.0007\n",
      "Validation Loss: 0.9941\n",
      "F1: 0.1975 | AUC: 0.7526 | Accuracy: 0.2159\n",
      "\n"
     ]
    },
    {
     "name": "stderr",
     "output_type": "stream",
     "text": [
      "Epoch 3/10:   0%|          | 0/2453 [00:00<?, ?it/s]/data/students/joshua_c/dev/PulmoScanX/.venv/lib/python3.13/site-packages/torch/nn/modules/instancenorm.py:115: UserWarning: input's size at dim=1 does not match num_features. You can silence this warning by not passing in num_features, which is not used because affine=False\n",
      "  warnings.warn(\n",
      "Epoch 3/10: 100%|██████████| 2453/2453 [52:30<00:00,  1.28s/it, loss=0.649]\n"
     ]
    },
    {
     "name": "stdout",
     "output_type": "stream",
     "text": [
      "\n",
      "Epoch 3 Training Loss: 0.9575\n",
      "Validation Loss: 0.9975\n",
      "F1: 0.2269 | AUC: 0.7661 | Accuracy: 0.2310\n",
      "\n"
     ]
    },
    {
     "name": "stderr",
     "output_type": "stream",
     "text": [
      "Epoch 4/10:   0%|          | 0/2453 [00:00<?, ?it/s]/data/students/joshua_c/dev/PulmoScanX/.venv/lib/python3.13/site-packages/torch/nn/modules/instancenorm.py:115: UserWarning: input's size at dim=1 does not match num_features. You can silence this warning by not passing in num_features, which is not used because affine=False\n",
      "  warnings.warn(\n",
      "Epoch 4/10: 100%|██████████| 2453/2453 [53:37<00:00,  1.31s/it, loss=0.682]\n"
     ]
    },
    {
     "name": "stdout",
     "output_type": "stream",
     "text": [
      "\n",
      "Epoch 4 Training Loss: 0.9193\n",
      "Validation Loss: 1.0104\n",
      "F1: 0.2267 | AUC: 0.7591 | Accuracy: 0.2612\n",
      "\n"
     ]
    },
    {
     "name": "stderr",
     "output_type": "stream",
     "text": [
      "Epoch 5/10:   0%|          | 0/2453 [00:00<?, ?it/s]/data/students/joshua_c/dev/PulmoScanX/.venv/lib/python3.13/site-packages/torch/nn/modules/instancenorm.py:115: UserWarning: input's size at dim=1 does not match num_features. You can silence this warning by not passing in num_features, which is not used because affine=False\n",
      "  warnings.warn(\n",
      "Epoch 5/10: 100%|██████████| 2453/2453 [53:08<00:00,  1.30s/it, loss=0.711]\n"
     ]
    },
    {
     "name": "stdout",
     "output_type": "stream",
     "text": [
      "\n",
      "Epoch 5 Training Loss: 0.8852\n",
      "Validation Loss: 1.0252\n",
      "F1: 0.2209 | AUC: 0.7588 | Accuracy: 0.2507\n",
      "\n"
     ]
    },
    {
     "name": "stderr",
     "output_type": "stream",
     "text": [
      "Epoch 6/10:   0%|          | 0/2453 [00:00<?, ?it/s]/data/students/joshua_c/dev/PulmoScanX/.venv/lib/python3.13/site-packages/torch/nn/modules/instancenorm.py:115: UserWarning: input's size at dim=1 does not match num_features. You can silence this warning by not passing in num_features, which is not used because affine=False\n",
      "  warnings.warn(\n",
      "Epoch 6/10: 100%|██████████| 2453/2453 [52:48<00:00,  1.29s/it, loss=0.752]\n"
     ]
    },
    {
     "name": "stdout",
     "output_type": "stream",
     "text": [
      "\n",
      "Epoch 6 Training Loss: 0.7966\n",
      "Validation Loss: 0.9733\n",
      "F1: 0.2411 | AUC: 0.7733 | Accuracy: 0.2653\n",
      "\n"
     ]
    },
    {
     "name": "stderr",
     "output_type": "stream",
     "text": [
      "Epoch 7/10:   0%|          | 0/2453 [00:00<?, ?it/s]/data/students/joshua_c/dev/PulmoScanX/.venv/lib/python3.13/site-packages/torch/nn/modules/instancenorm.py:115: UserWarning: input's size at dim=1 does not match num_features. You can silence this warning by not passing in num_features, which is not used because affine=False\n",
      "  warnings.warn(\n",
      "Epoch 7/10: 100%|██████████| 2453/2453 [53:15<00:00,  1.30s/it, loss=0.526]\n"
     ]
    },
    {
     "name": "stdout",
     "output_type": "stream",
     "text": [
      "\n",
      "Epoch 7 Training Loss: 0.7515\n",
      "Validation Loss: 1.0343\n",
      "F1: 0.2331 | AUC: 0.7714 | Accuracy: 0.2538\n",
      "\n"
     ]
    },
    {
     "name": "stderr",
     "output_type": "stream",
     "text": [
      "Epoch 8/10:   0%|          | 0/2453 [00:00<?, ?it/s]/data/students/joshua_c/dev/PulmoScanX/.venv/lib/python3.13/site-packages/torch/nn/modules/instancenorm.py:115: UserWarning: input's size at dim=1 does not match num_features. You can silence this warning by not passing in num_features, which is not used because affine=False\n",
      "  warnings.warn(\n",
      "Epoch 8/10: 100%|██████████| 2453/2453 [53:12<00:00,  1.30s/it, loss=0.402]\n"
     ]
    },
    {
     "name": "stdout",
     "output_type": "stream",
     "text": [
      "\n",
      "Epoch 8 Training Loss: 0.7311\n",
      "Validation Loss: 1.0407\n",
      "F1: 0.2452 | AUC: 0.7704 | Accuracy: 0.2291\n",
      "\n"
     ]
    },
    {
     "name": "stderr",
     "output_type": "stream",
     "text": [
      "Epoch 9/10:   0%|          | 0/2453 [00:00<?, ?it/s]/data/students/joshua_c/dev/PulmoScanX/.venv/lib/python3.13/site-packages/torch/nn/modules/instancenorm.py:115: UserWarning: input's size at dim=1 does not match num_features. You can silence this warning by not passing in num_features, which is not used because affine=False\n",
      "  warnings.warn(\n",
      "Epoch 9/10: 100%|██████████| 2453/2453 [53:38<00:00,  1.31s/it, loss=0.647]\n"
     ]
    },
    {
     "name": "stdout",
     "output_type": "stream",
     "text": [
      "\n",
      "Epoch 9 Training Loss: 0.7005\n",
      "Validation Loss: 1.0469\n",
      "F1: 0.2513 | AUC: 0.7715 | Accuracy: 0.2079\n",
      "\n"
     ]
    },
    {
     "name": "stderr",
     "output_type": "stream",
     "text": [
      "Epoch 10/10:   0%|          | 0/2453 [00:00<?, ?it/s]/data/students/joshua_c/dev/PulmoScanX/.venv/lib/python3.13/site-packages/torch/nn/modules/instancenorm.py:115: UserWarning: input's size at dim=1 does not match num_features. You can silence this warning by not passing in num_features, which is not used because affine=False\n",
      "  warnings.warn(\n",
      "Epoch 10/10: 100%|██████████| 2453/2453 [53:27<00:00,  1.31s/it, loss=0.407]\n"
     ]
    },
    {
     "name": "stdout",
     "output_type": "stream",
     "text": [
      "\n",
      "Epoch 10 Training Loss: 0.6280\n",
      "Validation Loss: 1.0627\n",
      "F1: 0.2519 | AUC: 0.7716 | Accuracy: 0.2392\n",
      "\n"
     ]
    }
   ],
   "source": [
    "torch.backends.cudnn.benchmark = True\n",
    "torch.backends.cudnn.deterministic = False\n",
    "\n",
    "# Train\n",
    "train(model, train_loader, val_loader, device, epochs=10, lr=1e-4, save_path=config.MODEL_FOLDER, file_name=\"PulmoScanX_v1.1\", pos_weight=pos_weight)"
   ]
  },
  {
   "cell_type": "code",
   "execution_count": 9,
   "id": "6be4284e",
   "metadata": {},
   "outputs": [
    {
     "name": "stderr",
     "output_type": "stream",
     "text": [
      "/data/students/joshua_c/dev/PulmoScanX/.venv/lib/python3.13/site-packages/torch/nn/modules/instancenorm.py:115: UserWarning: input's size at dim=1 does not match num_features. You can silence this warning by not passing in num_features, which is not used because affine=False\n",
      "  warnings.warn(\n"
     ]
    },
    {
     "name": "stdout",
     "output_type": "stream",
     "text": [
      "\n",
      "Per-Class F1 Scores:\n",
      "                 Pathology  F1 Score\n",
      "                  Effusion  0.506024\n",
      "    Subcutaneous Emphysema  0.436364\n",
      "              Infiltration  0.410205\n",
      "                 Emphysema  0.370482\n",
      "              Pneumothorax  0.366145\n",
      "               Atelectasis  0.353092\n",
      "         Pneumomediastinum  0.331551\n",
      "                      Mass  0.331541\n",
      "                    Hernia  0.285714\n",
      "              Cardiomegaly  0.284472\n",
      "                    Nodule  0.234330\n",
      "                     Edema  0.201820\n",
      "             Consolidation  0.192145\n",
      "          Pneumoperitoneum  0.181132\n",
      "        Pleural Thickening  0.160781\n",
      "            Tortuous Aorta  0.144279\n",
      "                  Fibrosis  0.128770\n",
      "Calcification of the Aorta  0.089494\n",
      "                 Pneumonia  0.082143\n"
     ]
    }
   ],
   "source": [
    "from utils.evaluate import evaluate, evaluate_per_class\n",
    "evals_per_class = evaluate_per_class(model, test_loader, device, list(classes_df.columns))"
   ]
  }
 ],
 "metadata": {
  "kernelspec": {
   "display_name": ".venv",
   "language": "python",
   "name": "python3"
  },
  "language_info": {
   "codemirror_mode": {
    "name": "ipython",
    "version": 3
   },
   "file_extension": ".py",
   "mimetype": "text/x-python",
   "name": "python",
   "nbconvert_exporter": "python",
   "pygments_lexer": "ipython3",
   "version": "3.13.4"
  }
 },
 "nbformat": 4,
 "nbformat_minor": 5
}
