{
 "cells": [
  {
   "cell_type": "code",
   "execution_count": 1,
   "id": "fd3628e7",
   "metadata": {},
   "outputs": [],
   "source": [
    "import os\n",
    "import pandas as pd\n",
    "import config\n",
    "from utils.dataset import chest_xray_datasplit, ChestXrayDataset, ChestXrayDatasetWithMask\n",
    "from utils.model import ChestXrayDenseNet121\n",
    "from utils.train import train, validate, compute_pos_weight"
   ]
  },
  {
   "cell_type": "code",
   "execution_count": 2,
   "id": "6223e9c5",
   "metadata": {},
   "outputs": [
    {
     "data": {
      "text/html": [
       "<div>\n",
       "<style scoped>\n",
       "    .dataframe tbody tr th:only-of-type {\n",
       "        vertical-align: middle;\n",
       "    }\n",
       "\n",
       "    .dataframe tbody tr th {\n",
       "        vertical-align: top;\n",
       "    }\n",
       "\n",
       "    .dataframe thead th {\n",
       "        text-align: right;\n",
       "    }\n",
       "</style>\n",
       "<table border=\"1\" class=\"dataframe\">\n",
       "  <thead>\n",
       "    <tr style=\"text-align: right;\">\n",
       "      <th></th>\n",
       "      <th>Image Index</th>\n",
       "      <th>Atelectasis</th>\n",
       "      <th>Cardiomegaly</th>\n",
       "      <th>Consolidation</th>\n",
       "      <th>Edema</th>\n",
       "      <th>Effusion</th>\n",
       "      <th>Emphysema</th>\n",
       "      <th>Fibrosis</th>\n",
       "      <th>Hernia</th>\n",
       "      <th>Infiltration</th>\n",
       "      <th>Mass</th>\n",
       "      <th>No Finding</th>\n",
       "      <th>Nodule</th>\n",
       "      <th>Pleural_Thickening</th>\n",
       "      <th>Pneumonia</th>\n",
       "      <th>Pneumothorax</th>\n",
       "    </tr>\n",
       "  </thead>\n",
       "  <tbody>\n",
       "    <tr>\n",
       "      <th>0</th>\n",
       "      <td>00000001_000.png</td>\n",
       "      <td>0</td>\n",
       "      <td>1</td>\n",
       "      <td>0</td>\n",
       "      <td>0</td>\n",
       "      <td>0</td>\n",
       "      <td>0</td>\n",
       "      <td>0</td>\n",
       "      <td>0</td>\n",
       "      <td>0</td>\n",
       "      <td>0</td>\n",
       "      <td>0</td>\n",
       "      <td>0</td>\n",
       "      <td>0</td>\n",
       "      <td>0</td>\n",
       "      <td>0</td>\n",
       "    </tr>\n",
       "    <tr>\n",
       "      <th>1</th>\n",
       "      <td>00000001_001.png</td>\n",
       "      <td>0</td>\n",
       "      <td>1</td>\n",
       "      <td>0</td>\n",
       "      <td>0</td>\n",
       "      <td>0</td>\n",
       "      <td>1</td>\n",
       "      <td>0</td>\n",
       "      <td>0</td>\n",
       "      <td>0</td>\n",
       "      <td>0</td>\n",
       "      <td>0</td>\n",
       "      <td>0</td>\n",
       "      <td>0</td>\n",
       "      <td>0</td>\n",
       "      <td>0</td>\n",
       "    </tr>\n",
       "    <tr>\n",
       "      <th>2</th>\n",
       "      <td>00000001_002.png</td>\n",
       "      <td>0</td>\n",
       "      <td>1</td>\n",
       "      <td>0</td>\n",
       "      <td>0</td>\n",
       "      <td>1</td>\n",
       "      <td>0</td>\n",
       "      <td>0</td>\n",
       "      <td>0</td>\n",
       "      <td>0</td>\n",
       "      <td>0</td>\n",
       "      <td>0</td>\n",
       "      <td>0</td>\n",
       "      <td>0</td>\n",
       "      <td>0</td>\n",
       "      <td>0</td>\n",
       "    </tr>\n",
       "    <tr>\n",
       "      <th>3</th>\n",
       "      <td>00000002_000.png</td>\n",
       "      <td>0</td>\n",
       "      <td>0</td>\n",
       "      <td>0</td>\n",
       "      <td>0</td>\n",
       "      <td>0</td>\n",
       "      <td>0</td>\n",
       "      <td>0</td>\n",
       "      <td>0</td>\n",
       "      <td>0</td>\n",
       "      <td>0</td>\n",
       "      <td>1</td>\n",
       "      <td>0</td>\n",
       "      <td>0</td>\n",
       "      <td>0</td>\n",
       "      <td>0</td>\n",
       "    </tr>\n",
       "    <tr>\n",
       "      <th>4</th>\n",
       "      <td>00000003_001.png</td>\n",
       "      <td>0</td>\n",
       "      <td>0</td>\n",
       "      <td>0</td>\n",
       "      <td>0</td>\n",
       "      <td>0</td>\n",
       "      <td>0</td>\n",
       "      <td>0</td>\n",
       "      <td>1</td>\n",
       "      <td>0</td>\n",
       "      <td>0</td>\n",
       "      <td>0</td>\n",
       "      <td>0</td>\n",
       "      <td>0</td>\n",
       "      <td>0</td>\n",
       "      <td>0</td>\n",
       "    </tr>\n",
       "  </tbody>\n",
       "</table>\n",
       "</div>"
      ],
      "text/plain": [
       "        Image Index  Atelectasis  Cardiomegaly  Consolidation  Edema  \\\n",
       "0  00000001_000.png            0             1              0      0   \n",
       "1  00000001_001.png            0             1              0      0   \n",
       "2  00000001_002.png            0             1              0      0   \n",
       "3  00000002_000.png            0             0              0      0   \n",
       "4  00000003_001.png            0             0              0      0   \n",
       "\n",
       "   Effusion  Emphysema  Fibrosis  Hernia  Infiltration  Mass  No Finding  \\\n",
       "0         0          0         0       0             0     0           0   \n",
       "1         0          1         0       0             0     0           0   \n",
       "2         1          0         0       0             0     0           0   \n",
       "3         0          0         0       0             0     0           1   \n",
       "4         0          0         0       1             0     0           0   \n",
       "\n",
       "   Nodule  Pleural_Thickening  Pneumonia  Pneumothorax  \n",
       "0       0                   0          0             0  \n",
       "1       0                   0          0             0  \n",
       "2       0                   0          0             0  \n",
       "3       0                   0          0             0  \n",
       "4       0                   0          0             0  "
      ]
     },
     "execution_count": 2,
     "metadata": {},
     "output_type": "execute_result"
    }
   ],
   "source": [
    "full_df = pd.read_csv(os.path.join(config.DATASET_DIR, 'Data_Entry_2017_v2020.csv'))\n",
    "# Step 1: Create dummy columns using one-hot encoding\n",
    "expanded_df = full_df['Finding Labels'].str.get_dummies(sep='|')\n",
    "\n",
    "# Step 2: Concatenate with original Image Index\n",
    "final_df = pd.concat([full_df[['Image Index']], expanded_df], axis=1)\n",
    "final_df.head()"
   ]
  },
  {
   "cell_type": "code",
   "execution_count": 3,
   "id": "3c060a97",
   "metadata": {},
   "outputs": [],
   "source": [
    "classes_df = final_df.drop(columns=['Image Index', 'No Finding'])"
   ]
  },
  {
   "cell_type": "code",
   "execution_count": 4,
   "id": "5e52254c",
   "metadata": {},
   "outputs": [],
   "source": [
    "# Initialize model\n",
    "model = ChestXrayDenseNet121(num_classes=len(classes_df.columns))"
   ]
  },
  {
   "cell_type": "code",
   "execution_count": 5,
   "id": "2ac54063",
   "metadata": {},
   "outputs": [],
   "source": [
    "import torch\n",
    "def compute_pos_weight_from_df(full_df, label_cols):\n",
    "    num_samples = len(full_df)\n",
    "\n",
    "    # Sum positives per class\n",
    "    pos_counts = full_df[label_cols].sum().values  # shape [num_classes]\n",
    "    neg_counts = num_samples - pos_counts\n",
    "\n",
    "    pos_weight = neg_counts / (pos_counts + 1e-6)  # avoid div by zero\n",
    "    return torch.tensor(pos_weight, dtype=torch.float32)\n",
    "\n",
    "pos_weight = compute_pos_weight_from_df(classes_df, list(classes_df.columns))"
   ]
  },
  {
   "cell_type": "code",
   "execution_count": 6,
   "id": "8b19ee84",
   "metadata": {},
   "outputs": [],
   "source": [
    "from torch.utils.data import DataLoader\n",
    "full_dataset = ChestXrayDataset(dataframe=final_df, img_dir=os.path.join(config.DATASET_DIR, 'cxr', 'images'))\n",
    "\n",
    "train_dataset, val_dataset, test_dataset = chest_xray_datasplit(final_df, full_dataset, dataset_dir=os.path.join(config.DATASET_DIR, 'cxr', 'images'))\n",
    "\n",
    "train_loader = DataLoader(train_dataset, batch_size=96, shuffle=True, num_workers=4, pin_memory=True)\n",
    "val_loader = DataLoader(val_dataset, batch_size=96, shuffle=False, num_workers=4, pin_memory=True)\n",
    "test_loader = DataLoader(test_dataset, batch_size=96, shuffle=False, num_workers=4, pin_memory=True)"
   ]
  },
  {
   "cell_type": "code",
   "execution_count": null,
   "id": "0b973d5a",
   "metadata": {},
   "outputs": [
    {
     "name": "stdout",
     "output_type": "stream",
     "text": [
      "Using 3 GPUs: [1, 2, 3]\n"
     ]
    },
    {
     "name": "stderr",
     "output_type": "stream",
     "text": [
      "Epoch 1/10:   1%|          | 5/818 [00:18<34:28,  2.54s/it, loss=1.45]  "
     ]
    }
   ],
   "source": [
    "import torch\n",
    "device = torch.device(\"cuda:6\" if torch.cuda.is_available() else \"cpu\")\n",
    "torch.backends.cudnn.benchmark = True\n",
    "torch.backends.cudnn.deterministic = False\n",
    "\n",
    "# Train\n",
    "train(model, train_loader, val_loader, device, epochs=10, lr=1e-4, save_path=config.MODEL_FOLDER, file_name=\"PulmoScanX_Densenet_v2\", pos_weight=pos_weight,\n",
    "      multi_gpu=True, device_ids=[1,2,3])"
   ]
  },
  {
   "cell_type": "code",
   "execution_count": 9,
   "id": "fee7272d",
   "metadata": {},
   "outputs": [
    {
     "name": "stdout",
     "output_type": "stream",
     "text": [
      "\n",
      "Per-Class F1 Scores:\n",
      "                 Pathology  F1 Score\n",
      "                  Effusion  0.505556\n",
      "    Subcutaneous Emphysema  0.468314\n",
      "                 Emphysema  0.413209\n",
      "              Infiltration  0.405411\n",
      "                    Hernia  0.400000\n",
      "              Pneumothorax  0.379723\n",
      "               Atelectasis  0.374114\n",
      "         Pneumomediastinum  0.366864\n",
      "                      Mass  0.335202\n",
      "              Cardiomegaly  0.290840\n",
      "                    Nodule  0.243829\n",
      "                     Edema  0.217028\n",
      "          Pneumoperitoneum  0.205405\n",
      "             Consolidation  0.195868\n",
      "        Pleural Thickening  0.188668\n",
      "            Tortuous Aorta  0.165581\n",
      "                  Fibrosis  0.149390\n",
      "                 Pneumonia  0.091616\n",
      "Calcification of the Aorta  0.085603\n"
     ]
    }
   ],
   "source": [
    "from utils.evaluate import evaluate, evaluate_per_class\n",
    "evals_per_class = evaluate_per_class(model, test_loader, device, list(classes_df.columns))"
   ]
  },
  {
   "cell_type": "code",
   "execution_count": null,
   "id": "ac8e4c5e",
   "metadata": {},
   "outputs": [
    {
     "data": {
      "text/plain": [
       "['Atelectasis',\n",
       " 'Cardiomegaly',\n",
       " 'Consolidation',\n",
       " 'Edema',\n",
       " 'Effusion',\n",
       " 'Emphysema',\n",
       " 'Fibrosis',\n",
       " 'Hernia',\n",
       " 'Infiltration',\n",
       " 'Mass',\n",
       " 'Nodule',\n",
       " 'Pleural Thickening',\n",
       " 'Pneumonia',\n",
       " 'Pneumothorax',\n",
       " 'Pneumoperitoneum',\n",
       " 'Pneumomediastinum',\n",
       " 'Subcutaneous Emphysema',\n",
       " 'Tortuous Aorta',\n",
       " 'Calcification of the Aorta']"
      ]
     },
     "execution_count": 25,
     "metadata": {},
     "output_type": "execute_result"
    }
   ],
   "source": [
    "list(classes_df.columns)"
   ]
  }
 ],
 "metadata": {
  "kernelspec": {
   "display_name": ".venv",
   "language": "python",
   "name": "python3"
  },
  "language_info": {
   "codemirror_mode": {
    "name": "ipython",
    "version": 3
   },
   "file_extension": ".py",
   "mimetype": "text/x-python",
   "name": "python",
   "nbconvert_exporter": "python",
   "pygments_lexer": "ipython3",
   "version": "3.13.4"
  }
 },
 "nbformat": 4,
 "nbformat_minor": 5
}
