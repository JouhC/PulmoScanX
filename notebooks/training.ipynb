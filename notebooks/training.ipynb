{
 "cells": [
  {
   "cell_type": "code",
   "execution_count": 1,
   "id": "fd3628e7",
   "metadata": {},
   "outputs": [],
   "source": [
    "import os\n",
    "import pandas as pd\n",
    "import config\n",
    "from utils.dataset import chest_xray_datasplit, ChestXrayDataset, ChestXrayDatasetWithMask\n",
    "from utils.model import ChestXrayDenseNet121\n",
    "from utils.train import train, validate, compute_pos_weight"
   ]
  },
  {
   "cell_type": "code",
   "execution_count": 2,
   "id": "6223e9c5",
   "metadata": {},
   "outputs": [],
   "source": [
    "test_path = os.path.join(config.DATASET_DIR, 'miccai2023_nih-cxr-lt_labels_test.csv')\n",
    "train_path = os.path.join(config.DATASET_DIR, 'miccai2023_nih-cxr-lt_labels_train.csv')\n",
    "val_path = os.path.join(config.DATASET_DIR, 'miccai2023_nih-cxr-lt_labels_val.csv')\n",
    "\n",
    "# Load all CSVs\n",
    "df_train = pd.read_csv(train_path)\n",
    "df_val = pd.read_csv(val_path)\n",
    "df_test = pd.read_csv(test_path)\n",
    "\n",
    "# Combine them\n",
    "full_df = pd.concat([df_train, df_val, df_test], ignore_index=True)"
   ]
  },
  {
   "cell_type": "code",
   "execution_count": 3,
   "id": "3c060a97",
   "metadata": {},
   "outputs": [],
   "source": [
    "classes_df = full_df.drop(columns=['id', 'No Finding', 'subj_id'])"
   ]
  },
  {
   "cell_type": "code",
   "execution_count": 4,
   "id": "bbc37107",
   "metadata": {},
   "outputs": [
    {
     "data": {
      "text/plain": [
       "Atelectasis                   11559\n",
       "Cardiomegaly                   2776\n",
       "Consolidation                  4667\n",
       "Edema                          2303\n",
       "Effusion                      13317\n",
       "Emphysema                      2516\n",
       "Fibrosis                       1686\n",
       "Hernia                          227\n",
       "Infiltration                  19894\n",
       "Mass                           5782\n",
       "Nodule                         6331\n",
       "Pleural Thickening             3385\n",
       "Pneumonia                      1431\n",
       "Pneumothorax                   5302\n",
       "Pneumoperitoneum                316\n",
       "Pneumomediastinum               253\n",
       "Subcutaneous Emphysema         1991\n",
       "Tortuous Aorta                  742\n",
       "Calcification of the Aorta      455\n",
       "dtype: int64"
      ]
     },
     "execution_count": 4,
     "metadata": {},
     "output_type": "execute_result"
    }
   ],
   "source": [
    "classes_df.sum()"
   ]
  },
  {
   "cell_type": "code",
   "execution_count": null,
   "id": "9673da04",
   "metadata": {},
   "outputs": [],
   "source": [
    "from torch.utils.data import DataLoader\n",
    "full_dataset = ChestXrayDatasetWithMask(dataframe=full_df, img_dir=os.path.join(config.DATASET_DIR, 'cxr', 'images'), mask_model=)\n",
    "\n",
    "train_dataset, val_dataset, test_dataset = chest_xray_datasplit(full_df, full_dataset)\n",
    "\n",
    "train_loader = DataLoader(train_dataset, batch_size=32, shuffle=True)\n",
    "val_loader = DataLoader(val_dataset, batch_size=32, shuffle=False)\n",
    "test_loader = DataLoader(test_dataset, batch_size=32, shuffle=False)"
   ]
  },
  {
   "cell_type": "code",
   "execution_count": 6,
   "id": "5e52254c",
   "metadata": {},
   "outputs": [],
   "source": [
    "# Initialize model\n",
    "model = ChestXrayDenseNet121(num_classes=19)"
   ]
  },
  {
   "cell_type": "code",
   "execution_count": 7,
   "id": "2ac54063",
   "metadata": {},
   "outputs": [],
   "source": [
    "import torch\n",
    "def compute_pos_weight_from_df(full_df, label_cols):\n",
    "    num_samples = len(full_df)\n",
    "\n",
    "    # Sum positives per class\n",
    "    pos_counts = full_df[label_cols].sum().values  # shape [num_classes]\n",
    "    neg_counts = num_samples - pos_counts\n",
    "\n",
    "    pos_weight = neg_counts / (pos_counts + 1e-6)  # avoid div by zero\n",
    "    return torch.tensor(pos_weight, dtype=torch.float32)\n",
    "\n",
    "pos_weight = compute_pos_weight_from_df(classes_df, list(classes_df.columns))"
   ]
  },
  {
   "cell_type": "code",
   "execution_count": 8,
   "id": "0b973d5a",
   "metadata": {},
   "outputs": [
    {
     "name": "stderr",
     "output_type": "stream",
     "text": [
      "Epoch 1/20: 100%|██████████| 2453/2453 [29:32<00:00,  1.38it/s, loss=1.32]  \n"
     ]
    },
    {
     "name": "stdout",
     "output_type": "stream",
     "text": [
      "\n",
      "Epoch 1 Training Loss: 1.1065\n",
      "Validation Loss: 0.9946\n",
      "F1: 0.1838 | AUC: 0.7425 | Accuracy: 0.2066\n",
      "\n"
     ]
    },
    {
     "name": "stderr",
     "output_type": "stream",
     "text": [
      "Epoch 2/20: 100%|██████████| 2453/2453 [27:43<00:00,  1.47it/s, loss=0.441]\n"
     ]
    },
    {
     "name": "stdout",
     "output_type": "stream",
     "text": [
      "\n",
      "Epoch 2 Training Loss: 0.9935\n",
      "Validation Loss: 0.9653\n",
      "F1: 0.1920 | AUC: 0.7557 | Accuracy: 0.1853\n",
      "\n"
     ]
    },
    {
     "name": "stderr",
     "output_type": "stream",
     "text": [
      "Epoch 3/20: 100%|██████████| 2453/2453 [27:16<00:00,  1.50it/s, loss=0.703]\n"
     ]
    },
    {
     "name": "stdout",
     "output_type": "stream",
     "text": [
      "\n",
      "Epoch 3 Training Loss: 0.9576\n",
      "Validation Loss: 1.0538\n",
      "F1: 0.2258 | AUC: 0.7550 | Accuracy: 0.2841\n",
      "\n"
     ]
    },
    {
     "name": "stderr",
     "output_type": "stream",
     "text": [
      "Epoch 4/20: 100%|██████████| 2453/2453 [27:34<00:00,  1.48it/s, loss=1.19] \n"
     ]
    },
    {
     "name": "stdout",
     "output_type": "stream",
     "text": [
      "\n",
      "Epoch 4 Training Loss: 0.9220\n",
      "Validation Loss: 1.0054\n",
      "F1: 0.2157 | AUC: 0.7648 | Accuracy: 0.1983\n",
      "\n"
     ]
    },
    {
     "name": "stderr",
     "output_type": "stream",
     "text": [
      "Epoch 5/20: 100%|██████████| 2453/2453 [28:00<00:00,  1.46it/s, loss=3.88] \n"
     ]
    },
    {
     "name": "stdout",
     "output_type": "stream",
     "text": [
      "\n",
      "Epoch 5 Training Loss: 0.8841\n",
      "Validation Loss: 1.0429\n",
      "F1: 0.2490 | AUC: 0.7602 | Accuracy: 0.2685\n",
      "\n"
     ]
    },
    {
     "name": "stderr",
     "output_type": "stream",
     "text": [
      "Epoch 6/20: 100%|██████████| 2453/2453 [28:07<00:00,  1.45it/s, loss=1.16] \n"
     ]
    },
    {
     "name": "stdout",
     "output_type": "stream",
     "text": [
      "\n",
      "Epoch 6 Training Loss: 0.8009\n",
      "Validation Loss: 0.9633\n",
      "F1: 0.2338 | AUC: 0.7770 | Accuracy: 0.2475\n",
      "\n"
     ]
    },
    {
     "name": "stderr",
     "output_type": "stream",
     "text": [
      "Epoch 7/20: 100%|██████████| 2453/2453 [27:52<00:00,  1.47it/s, loss=0.749]\n"
     ]
    },
    {
     "name": "stdout",
     "output_type": "stream",
     "text": [
      "\n",
      "Epoch 7 Training Loss: 0.7474\n",
      "Validation Loss: 1.0307\n",
      "F1: 0.2406 | AUC: 0.7688 | Accuracy: 0.2114\n",
      "\n"
     ]
    },
    {
     "name": "stderr",
     "output_type": "stream",
     "text": [
      "Epoch 8/20: 100%|██████████| 2453/2453 [28:12<00:00,  1.45it/s, loss=0.705]\n"
     ]
    },
    {
     "name": "stdout",
     "output_type": "stream",
     "text": [
      "\n",
      "Epoch 8 Training Loss: 0.7180\n",
      "Validation Loss: 1.0361\n",
      "F1: 0.2467 | AUC: 0.7698 | Accuracy: 0.2567\n",
      "\n"
     ]
    },
    {
     "name": "stderr",
     "output_type": "stream",
     "text": [
      "Epoch 9/20: 100%|██████████| 2453/2453 [28:01<00:00,  1.46it/s, loss=0.673]\n"
     ]
    },
    {
     "name": "stdout",
     "output_type": "stream",
     "text": [
      "\n",
      "Epoch 9 Training Loss: 0.6929\n",
      "Validation Loss: 1.1443\n",
      "F1: 0.2624 | AUC: 0.7620 | Accuracy: 0.2632\n",
      "\n"
     ]
    },
    {
     "name": "stderr",
     "output_type": "stream",
     "text": [
      "Epoch 10/20: 100%|██████████| 2453/2453 [28:02<00:00,  1.46it/s, loss=0.54] \n"
     ]
    },
    {
     "name": "stdout",
     "output_type": "stream",
     "text": [
      "\n",
      "Epoch 10 Training Loss: 0.6232\n",
      "Validation Loss: 1.1220\n",
      "F1: 0.2632 | AUC: 0.7645 | Accuracy: 0.2367\n",
      "\n"
     ]
    },
    {
     "name": "stderr",
     "output_type": "stream",
     "text": [
      "Epoch 11/20: 100%|██████████| 2453/2453 [27:59<00:00,  1.46it/s, loss=0.406]\n"
     ]
    },
    {
     "name": "stdout",
     "output_type": "stream",
     "text": [
      "\n",
      "Epoch 11 Training Loss: 0.5949\n",
      "Validation Loss: 1.2157\n",
      "F1: 0.2689 | AUC: 0.7588 | Accuracy: 0.2583\n",
      "\n"
     ]
    },
    {
     "name": "stderr",
     "output_type": "stream",
     "text": [
      "Epoch 12/20: 100%|██████████| 2453/2453 [28:01<00:00,  1.46it/s, loss=0.499]\n"
     ]
    },
    {
     "name": "stdout",
     "output_type": "stream",
     "text": [
      "\n",
      "Epoch 12 Training Loss: 0.5712\n",
      "Validation Loss: 1.2130\n",
      "F1: 0.2641 | AUC: 0.7612 | Accuracy: 0.2372\n",
      "\n"
     ]
    },
    {
     "name": "stderr",
     "output_type": "stream",
     "text": [
      "Epoch 13/20: 100%|██████████| 2453/2453 [28:15<00:00,  1.45it/s, loss=0.911]\n"
     ]
    },
    {
     "name": "stdout",
     "output_type": "stream",
     "text": [
      "\n",
      "Epoch 13 Training Loss: 0.5326\n",
      "Validation Loss: 1.2923\n",
      "F1: 0.2819 | AUC: 0.7524 | Accuracy: 0.2567\n",
      "\n"
     ]
    },
    {
     "ename": "RuntimeError",
     "evalue": "[enforce fail at inline_container.cc:659] . unexpected pos 128 vs 0",
     "output_type": "error",
     "traceback": [
      "\u001b[31m---------------------------------------------------------------------------\u001b[39m",
      "\u001b[31mRuntimeError\u001b[39m                              Traceback (most recent call last)",
      "\u001b[36mFile \u001b[39m\u001b[32m~/dev/PulmoScanX/.venv/lib/python3.13/site-packages/torch/serialization.py:965\u001b[39m, in \u001b[36msave\u001b[39m\u001b[34m(obj, f, pickle_module, pickle_protocol, _use_new_zipfile_serialization, _disable_byteorder_record)\u001b[39m\n\u001b[32m    964\u001b[39m \u001b[38;5;28;01mwith\u001b[39;00m _open_zipfile_writer(f) \u001b[38;5;28;01mas\u001b[39;00m opened_zipfile:\n\u001b[32m--> \u001b[39m\u001b[32m965\u001b[39m     \u001b[43m_save\u001b[49m\u001b[43m(\u001b[49m\n\u001b[32m    966\u001b[39m \u001b[43m        \u001b[49m\u001b[43mobj\u001b[49m\u001b[43m,\u001b[49m\n\u001b[32m    967\u001b[39m \u001b[43m        \u001b[49m\u001b[43mopened_zipfile\u001b[49m\u001b[43m,\u001b[49m\n\u001b[32m    968\u001b[39m \u001b[43m        \u001b[49m\u001b[43mpickle_module\u001b[49m\u001b[43m,\u001b[49m\n\u001b[32m    969\u001b[39m \u001b[43m        \u001b[49m\u001b[43mpickle_protocol\u001b[49m\u001b[43m,\u001b[49m\n\u001b[32m    970\u001b[39m \u001b[43m        \u001b[49m\u001b[43m_disable_byteorder_record\u001b[49m\u001b[43m,\u001b[49m\n\u001b[32m    971\u001b[39m \u001b[43m    \u001b[49m\u001b[43m)\u001b[49m\n\u001b[32m    972\u001b[39m     \u001b[38;5;28;01mreturn\u001b[39;00m\n",
      "\u001b[36mFile \u001b[39m\u001b[32m~/dev/PulmoScanX/.venv/lib/python3.13/site-packages/torch/serialization.py:1213\u001b[39m, in \u001b[36m_save\u001b[39m\u001b[34m(obj, zip_file, pickle_module, pickle_protocol, _disable_byteorder_record)\u001b[39m\n\u001b[32m   1212\u001b[39m data_value = data_buf.getvalue()\n\u001b[32m-> \u001b[39m\u001b[32m1213\u001b[39m \u001b[43mzip_file\u001b[49m\u001b[43m.\u001b[49m\u001b[43mwrite_record\u001b[49m\u001b[43m(\u001b[49m\u001b[33;43m\"\u001b[39;49m\u001b[33;43mdata.pkl\u001b[39;49m\u001b[33;43m\"\u001b[39;49m\u001b[43m,\u001b[49m\u001b[43m \u001b[49m\u001b[43mdata_value\u001b[49m\u001b[43m,\u001b[49m\u001b[43m \u001b[49m\u001b[38;5;28;43mlen\u001b[39;49m\u001b[43m(\u001b[49m\u001b[43mdata_value\u001b[49m\u001b[43m)\u001b[49m\u001b[43m)\u001b[49m\n\u001b[32m   1214\u001b[39m \u001b[38;5;66;03m# .format_version is used to track\u001b[39;00m\n\u001b[32m   1215\u001b[39m \u001b[38;5;66;03m#     1. version 1 represents the order of storages being changed from\u001b[39;00m\n\u001b[32m   1216\u001b[39m \u001b[38;5;66;03m#        lexicographical based on keys to numerically ordered based on keys\u001b[39;00m\n\u001b[32m   1217\u001b[39m \u001b[38;5;66;03m#     2. version 2 represents including storage_alignment as a record\u001b[39;00m\n\u001b[32m   1218\u001b[39m \u001b[38;5;66;03m#        within the zipfile\u001b[39;00m\n",
      "\u001b[31mRuntimeError\u001b[39m: [enforce fail at inline_container.cc:857] . PytorchStreamWriter failed writing file data.pkl: file write failed",
      "\nDuring handling of the above exception, another exception occurred:\n",
      "\u001b[31mRuntimeError\u001b[39m                              Traceback (most recent call last)",
      "\u001b[36mCell\u001b[39m\u001b[36m \u001b[39m\u001b[32mIn[8]\u001b[39m\u001b[32m, line 7\u001b[39m\n\u001b[32m      4\u001b[39m torch.backends.cudnn.deterministic = \u001b[38;5;28;01mFalse\u001b[39;00m\n\u001b[32m      6\u001b[39m \u001b[38;5;66;03m# Train\u001b[39;00m\n\u001b[32m----> \u001b[39m\u001b[32m7\u001b[39m \u001b[43mtrain\u001b[49m\u001b[43m(\u001b[49m\u001b[43mmodel\u001b[49m\u001b[43m,\u001b[49m\u001b[43m \u001b[49m\u001b[43mtrain_loader\u001b[49m\u001b[43m,\u001b[49m\u001b[43m \u001b[49m\u001b[43mval_loader\u001b[49m\u001b[43m,\u001b[49m\u001b[43m \u001b[49m\u001b[43mdevice\u001b[49m\u001b[43m,\u001b[49m\u001b[43m \u001b[49m\u001b[43mepochs\u001b[49m\u001b[43m=\u001b[49m\u001b[32;43m20\u001b[39;49m\u001b[43m,\u001b[49m\u001b[43m \u001b[49m\u001b[43mlr\u001b[49m\u001b[43m=\u001b[49m\u001b[32;43m1e-4\u001b[39;49m\u001b[43m,\u001b[49m\u001b[43m \u001b[49m\u001b[43msave_path\u001b[49m\u001b[43m=\u001b[49m\u001b[43mconfig\u001b[49m\u001b[43m.\u001b[49m\u001b[43mMODEL_FOLDER\u001b[49m\u001b[43m,\u001b[49m\u001b[43m \u001b[49m\u001b[43mfile_name\u001b[49m\u001b[43m=\u001b[49m\u001b[33;43m\"\u001b[39;49m\u001b[33;43mPulmoScanX_v2.1\u001b[39;49m\u001b[33;43m\"\u001b[39;49m\u001b[43m,\u001b[49m\u001b[43m \u001b[49m\u001b[43mpos_weight\u001b[49m\u001b[43m=\u001b[49m\u001b[43mpos_weight\u001b[49m\u001b[43m)\u001b[49m\n",
      "\u001b[36mFile \u001b[39m\u001b[32m/raid/students/joshua_c/dev/PulmoScanX/utils/train.py:44\u001b[39m, in \u001b[36mtrain\u001b[39m\u001b[34m(model, train_loader, val_loader, device, epochs, lr, save_path, file_name, pos_weight)\u001b[39m\n\u001b[32m     41\u001b[39m \u001b[38;5;28mprint\u001b[39m(\u001b[33mf\u001b[39m\u001b[33m\"\u001b[39m\u001b[33mF1: \u001b[39m\u001b[38;5;132;01m{\u001b[39;00mval_metrics[\u001b[33m'\u001b[39m\u001b[33mf1\u001b[39m\u001b[33m'\u001b[39m]\u001b[38;5;132;01m:\u001b[39;00m\u001b[33m.4f\u001b[39m\u001b[38;5;132;01m}\u001b[39;00m\u001b[33m | AUC: \u001b[39m\u001b[38;5;132;01m{\u001b[39;00mval_metrics[\u001b[33m'\u001b[39m\u001b[33mauc\u001b[39m\u001b[33m'\u001b[39m]\u001b[38;5;132;01m:\u001b[39;00m\u001b[33m.4f\u001b[39m\u001b[38;5;132;01m}\u001b[39;00m\u001b[33m | Accuracy: \u001b[39m\u001b[38;5;132;01m{\u001b[39;00mval_metrics[\u001b[33m'\u001b[39m\u001b[33macc\u001b[39m\u001b[33m'\u001b[39m]\u001b[38;5;132;01m:\u001b[39;00m\u001b[33m.4f\u001b[39m\u001b[38;5;132;01m}\u001b[39;00m\u001b[38;5;130;01m\\n\u001b[39;00m\u001b[33m\"\u001b[39m)\n\u001b[32m     43\u001b[39m \u001b[38;5;28;01mif\u001b[39;00m save_path:\n\u001b[32m---> \u001b[39m\u001b[32m44\u001b[39m     \u001b[43mtorch\u001b[49m\u001b[43m.\u001b[49m\u001b[43msave\u001b[49m\u001b[43m(\u001b[49m\u001b[43mmodel\u001b[49m\u001b[43m.\u001b[49m\u001b[43mstate_dict\u001b[49m\u001b[43m(\u001b[49m\u001b[43m)\u001b[49m\u001b[43m,\u001b[49m\u001b[43m \u001b[49m\u001b[33;43mf\u001b[39;49m\u001b[33;43m\"\u001b[39;49m\u001b[38;5;132;43;01m{\u001b[39;49;00m\u001b[43msave_path\u001b[49m\u001b[38;5;132;43;01m}\u001b[39;49;00m\u001b[33;43m/\u001b[39;49m\u001b[38;5;132;43;01m{\u001b[39;49;00m\u001b[43mfile_name\u001b[49m\u001b[38;5;132;43;01m}\u001b[39;49;00m\u001b[33;43m_checkpoint_epoch_\u001b[39;49m\u001b[38;5;132;43;01m{\u001b[39;49;00m\u001b[43mepoch\u001b[49m\u001b[43m+\u001b[49m\u001b[32;43m1\u001b[39;49m\u001b[38;5;132;43;01m}\u001b[39;49;00m\u001b[33;43m.pth\u001b[39;49m\u001b[33;43m\"\u001b[39;49m\u001b[43m)\u001b[49m\n",
      "\u001b[36mFile \u001b[39m\u001b[32m~/dev/PulmoScanX/.venv/lib/python3.13/site-packages/torch/serialization.py:964\u001b[39m, in \u001b[36msave\u001b[39m\u001b[34m(obj, f, pickle_module, pickle_protocol, _use_new_zipfile_serialization, _disable_byteorder_record)\u001b[39m\n\u001b[32m    961\u001b[39m     f = os.fspath(f)\n\u001b[32m    963\u001b[39m \u001b[38;5;28;01mif\u001b[39;00m _use_new_zipfile_serialization:\n\u001b[32m--> \u001b[39m\u001b[32m964\u001b[39m     \u001b[38;5;28;01mwith\u001b[39;00m _open_zipfile_writer(f) \u001b[38;5;28;01mas\u001b[39;00m opened_zipfile:\n\u001b[32m    965\u001b[39m         _save(\n\u001b[32m    966\u001b[39m             obj,\n\u001b[32m    967\u001b[39m             opened_zipfile,\n\u001b[32m   (...)\u001b[39m\u001b[32m    970\u001b[39m             _disable_byteorder_record,\n\u001b[32m    971\u001b[39m         )\n\u001b[32m    972\u001b[39m         \u001b[38;5;28;01mreturn\u001b[39;00m\n",
      "\u001b[36mFile \u001b[39m\u001b[32m~/dev/PulmoScanX/.venv/lib/python3.13/site-packages/torch/serialization.py:798\u001b[39m, in \u001b[36m_open_zipfile_writer_file.__exit__\u001b[39m\u001b[34m(self, *args)\u001b[39m\n\u001b[32m    797\u001b[39m \u001b[38;5;28;01mdef\u001b[39;00m\u001b[38;5;250m \u001b[39m\u001b[34m__exit__\u001b[39m(\u001b[38;5;28mself\u001b[39m, *args) -> \u001b[38;5;28;01mNone\u001b[39;00m:\n\u001b[32m--> \u001b[39m\u001b[32m798\u001b[39m     \u001b[38;5;28;43mself\u001b[39;49m\u001b[43m.\u001b[49m\u001b[43mfile_like\u001b[49m\u001b[43m.\u001b[49m\u001b[43mwrite_end_of_file\u001b[49m\u001b[43m(\u001b[49m\u001b[43m)\u001b[49m\n\u001b[32m    799\u001b[39m     \u001b[38;5;28;01mif\u001b[39;00m \u001b[38;5;28mself\u001b[39m.file_stream \u001b[38;5;129;01mis\u001b[39;00m \u001b[38;5;129;01mnot\u001b[39;00m \u001b[38;5;28;01mNone\u001b[39;00m:\n\u001b[32m    800\u001b[39m         \u001b[38;5;28mself\u001b[39m.file_stream.close()\n",
      "\u001b[31mRuntimeError\u001b[39m: [enforce fail at inline_container.cc:659] . unexpected pos 128 vs 0"
     ]
    }
   ],
   "source": [
    "import torch\n",
    "device = torch.device(\"cuda\" if torch.cuda.is_available() else \"cpu\")\n",
    "torch.backends.cudnn.benchmark = True\n",
    "torch.backends.cudnn.deterministic = False\n",
    "\n",
    "# Train\n",
    "train(model, train_loader, val_loader, device, epochs=20, lr=1e-4, save_path=config.MODEL_FOLDER, file_name=\"PulmoScanX_v2.1\", pos_weight=pos_weight)"
   ]
  },
  {
   "cell_type": "code",
   "execution_count": 9,
   "id": "fee7272d",
   "metadata": {},
   "outputs": [
    {
     "name": "stdout",
     "output_type": "stream",
     "text": [
      "\n",
      "Per-Class F1 Scores:\n",
      "                 Pathology  F1 Score\n",
      "                  Effusion  0.505556\n",
      "    Subcutaneous Emphysema  0.468314\n",
      "                 Emphysema  0.413209\n",
      "              Infiltration  0.405411\n",
      "                    Hernia  0.400000\n",
      "              Pneumothorax  0.379723\n",
      "               Atelectasis  0.374114\n",
      "         Pneumomediastinum  0.366864\n",
      "                      Mass  0.335202\n",
      "              Cardiomegaly  0.290840\n",
      "                    Nodule  0.243829\n",
      "                     Edema  0.217028\n",
      "          Pneumoperitoneum  0.205405\n",
      "             Consolidation  0.195868\n",
      "        Pleural Thickening  0.188668\n",
      "            Tortuous Aorta  0.165581\n",
      "                  Fibrosis  0.149390\n",
      "                 Pneumonia  0.091616\n",
      "Calcification of the Aorta  0.085603\n"
     ]
    }
   ],
   "source": [
    "from utils.evaluate import evaluate, evaluate_per_class\n",
    "evals_per_class = evaluate_per_class(model, test_loader, device, list(classes_df.columns))"
   ]
  },
  {
   "cell_type": "code",
   "execution_count": null,
   "id": "ac8e4c5e",
   "metadata": {},
   "outputs": [
    {
     "data": {
      "text/plain": [
       "['Atelectasis',\n",
       " 'Cardiomegaly',\n",
       " 'Consolidation',\n",
       " 'Edema',\n",
       " 'Effusion',\n",
       " 'Emphysema',\n",
       " 'Fibrosis',\n",
       " 'Hernia',\n",
       " 'Infiltration',\n",
       " 'Mass',\n",
       " 'Nodule',\n",
       " 'Pleural Thickening',\n",
       " 'Pneumonia',\n",
       " 'Pneumothorax',\n",
       " 'Pneumoperitoneum',\n",
       " 'Pneumomediastinum',\n",
       " 'Subcutaneous Emphysema',\n",
       " 'Tortuous Aorta',\n",
       " 'Calcification of the Aorta']"
      ]
     },
     "execution_count": 25,
     "metadata": {},
     "output_type": "execute_result"
    }
   ],
   "source": [
    "list(classes_df.columns)"
   ]
  }
 ],
 "metadata": {
  "kernelspec": {
   "display_name": ".venv",
   "language": "python",
   "name": "python3"
  },
  "language_info": {
   "codemirror_mode": {
    "name": "ipython",
    "version": 3
   },
   "file_extension": ".py",
   "mimetype": "text/x-python",
   "name": "python",
   "nbconvert_exporter": "python",
   "pygments_lexer": "ipython3",
   "version": "3.13.4"
  }
 },
 "nbformat": 4,
 "nbformat_minor": 5
}
