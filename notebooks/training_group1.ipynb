{
 "cells": [
  {
   "cell_type": "code",
   "execution_count": 1,
   "id": "fd3628e7",
   "metadata": {},
   "outputs": [],
   "source": [
    "import os\n",
    "import pandas as pd\n",
    "import config\n",
    "from utils.dataset import chest_xray_datasplit, ChestXrayDataset, ChestXrayDatasetWithMask\n",
    "from utils.model import EfficientNetV2_MultiLabel\n",
    "from utils.train import train, validate, compute_pos_weight"
   ]
  },
  {
   "cell_type": "code",
   "execution_count": 2,
   "id": "6223e9c5",
   "metadata": {},
   "outputs": [],
   "source": [
    "test_path = os.path.join(config.DATASET_DIR, 'miccai2023_nih-cxr-lt_labels_test.csv')\n",
    "train_path = os.path.join(config.DATASET_DIR, 'miccai2023_nih-cxr-lt_labels_train.csv')\n",
    "val_path = os.path.join(config.DATASET_DIR, 'miccai2023_nih-cxr-lt_labels_val.csv')\n",
    "\n",
    "# Load all CSVs\n",
    "df_train = pd.read_csv(train_path)\n",
    "df_val = pd.read_csv(val_path)\n",
    "df_test = pd.read_csv(test_path)\n",
    "\n",
    "# Combine them\n",
    "full_df = pd.concat([df_train, df_val, df_test], ignore_index=True)"
   ]
  },
  {
   "cell_type": "code",
   "execution_count": 3,
   "id": "e8299fd1",
   "metadata": {},
   "outputs": [],
   "source": [
    "['Pneumothorax', 'Emphysema', 'Subcutaneous Emphysema', 'Pneumoperitoneum', 'Pneumomediastinum'].extend(['id', 'No Finding', 'subj_id'])"
   ]
  },
  {
   "cell_type": "code",
   "execution_count": 4,
   "id": "6970613d",
   "metadata": {},
   "outputs": [],
   "source": [
    "columns = ['Pneumothorax', 'Emphysema', 'Subcutaneous Emphysema', 'Pneumoperitoneum', 'Pneumomediastinum']\n",
    "classes_df = full_df[columns]\n",
    "classes_df = classes_df[classes_df.sum(axis=1) > 0]\n",
    "columns.extend(['id', 'No Finding', 'subj_id'])\n",
    "# Filter full_df based on the index of the filtered classes_df\n",
    "group1_df = full_df.loc[classes_df.index, columns]\n",
    "#group1_df = full_df[columns]"
   ]
  },
  {
   "cell_type": "code",
   "execution_count": 5,
   "id": "9673da04",
   "metadata": {},
   "outputs": [],
   "source": [
    "from torch.utils.data import DataLoader\n",
    "full_dataset = ChestXrayDataset(dataframe=group1_df, img_dir=os.path.join(config.DATASET_DIR, 'cxr', 'images'))\n",
    "\n",
    "train_dataset, val_dataset, test_dataset = chest_xray_datasplit(group1_df, full_dataset, dataset_dir=os.path.join(config.DATASET_DIR, 'cxr', 'images'))\n",
    "\n",
    "train_loader = DataLoader(train_dataset, batch_size=96, shuffle=True, num_workers=4, pin_memory=True)\n",
    "val_loader = DataLoader(val_dataset, batch_size=96, shuffle=False, num_workers=4, pin_memory=True)\n",
    "test_loader = DataLoader(test_dataset, batch_size=96, shuffle=False, num_workers=4, pin_memory=True)"
   ]
  },
  {
   "cell_type": "code",
   "execution_count": 6,
   "id": "5e52254c",
   "metadata": {},
   "outputs": [],
   "source": [
    "# Initialize model\n",
    "model = EfficientNetV2_MultiLabel(num_classes=len(classes_df.columns))"
   ]
  },
  {
   "cell_type": "code",
   "execution_count": 7,
   "id": "2ac54063",
   "metadata": {},
   "outputs": [],
   "source": [
    "import torch\n",
    "def compute_pos_weight_from_df(full_df, label_cols):\n",
    "    num_samples = len(full_df)\n",
    "\n",
    "    # Sum positives per class\n",
    "    pos_counts = full_df[label_cols].sum().values  # shape [num_classes]\n",
    "    neg_counts = num_samples - pos_counts\n",
    "\n",
    "    pos_weight = neg_counts / (pos_counts + 1e-6)  # avoid div by zero\n",
    "    return torch.tensor(pos_weight, dtype=torch.float32)\n",
    "\n",
    "pos_weight = compute_pos_weight_from_df(classes_df, list(classes_df.columns))"
   ]
  },
  {
   "cell_type": "code",
   "execution_count": 8,
   "id": "0b973d5a",
   "metadata": {},
   "outputs": [
    {
     "name": "stdout",
     "output_type": "stream",
     "text": [
      "Using 3 GPUs: [1, 2, 3]\n"
     ]
    },
    {
     "name": "stderr",
     "output_type": "stream",
     "text": [
      "Epoch 1/10: 100%|██████████| 56/56 [01:57<00:00,  2.10s/it, loss=0.642]"
     ]
    },
    {
     "name": "stdout",
     "output_type": "stream",
     "text": [
      "\n",
      "Epoch 1 Training Loss: 0.9523\n"
     ]
    },
    {
     "name": "stderr",
     "output_type": "stream",
     "text": [
      "\n"
     ]
    },
    {
     "name": "stdout",
     "output_type": "stream",
     "text": [
      "Validation Loss: 0.9146\n",
      "F1: 0.3726 | AUC: 0.6314 | Accuracy: 0.1539\n",
      "\n"
     ]
    },
    {
     "name": "stderr",
     "output_type": "stream",
     "text": [
      "Epoch 2/10: 100%|██████████| 56/56 [01:50<00:00,  1.97s/it, loss=0.665]"
     ]
    },
    {
     "name": "stdout",
     "output_type": "stream",
     "text": [
      "\n",
      "Epoch 2 Training Loss: 0.8380\n"
     ]
    },
    {
     "name": "stderr",
     "output_type": "stream",
     "text": [
      "\n"
     ]
    },
    {
     "name": "stdout",
     "output_type": "stream",
     "text": [
      "Validation Loss: 0.7799\n",
      "F1: 0.4786 | AUC: 0.6959 | Accuracy: 0.4749\n",
      "\n"
     ]
    },
    {
     "name": "stderr",
     "output_type": "stream",
     "text": [
      "Epoch 3/10: 100%|██████████| 56/56 [01:51<00:00,  2.00s/it, loss=0.592]"
     ]
    },
    {
     "name": "stdout",
     "output_type": "stream",
     "text": [
      "\n",
      "Epoch 3 Training Loss: 0.7258\n"
     ]
    },
    {
     "name": "stderr",
     "output_type": "stream",
     "text": [
      "\n"
     ]
    },
    {
     "name": "stdout",
     "output_type": "stream",
     "text": [
      "Validation Loss: 0.7003\n",
      "F1: 0.5650 | AUC: 0.7606 | Accuracy: 0.5330\n",
      "\n"
     ]
    },
    {
     "name": "stderr",
     "output_type": "stream",
     "text": [
      "Epoch 4/10: 100%|██████████| 56/56 [01:53<00:00,  2.03s/it, loss=0.66] "
     ]
    },
    {
     "name": "stdout",
     "output_type": "stream",
     "text": [
      "\n",
      "Epoch 4 Training Loss: 0.6564\n"
     ]
    },
    {
     "name": "stderr",
     "output_type": "stream",
     "text": [
      "\n"
     ]
    },
    {
     "name": "stdout",
     "output_type": "stream",
     "text": [
      "Validation Loss: 0.6666\n",
      "F1: 0.5702 | AUC: 0.7852 | Accuracy: 0.5092\n",
      "\n"
     ]
    },
    {
     "name": "stderr",
     "output_type": "stream",
     "text": [
      "Epoch 5/10: 100%|██████████| 56/56 [01:55<00:00,  2.06s/it, loss=0.372]"
     ]
    },
    {
     "name": "stdout",
     "output_type": "stream",
     "text": [
      "\n",
      "Epoch 5 Training Loss: 0.5793\n"
     ]
    },
    {
     "name": "stderr",
     "output_type": "stream",
     "text": [
      "\n"
     ]
    },
    {
     "name": "stdout",
     "output_type": "stream",
     "text": [
      "Validation Loss: 0.6364\n",
      "F1: 0.6029 | AUC: 0.7926 | Accuracy: 0.5330\n",
      "\n"
     ]
    },
    {
     "name": "stderr",
     "output_type": "stream",
     "text": [
      "Epoch 6/10: 100%|██████████| 56/56 [01:49<00:00,  1.95s/it, loss=0.838]"
     ]
    },
    {
     "name": "stdout",
     "output_type": "stream",
     "text": [
      "\n",
      "Epoch 6 Training Loss: 0.5406\n"
     ]
    },
    {
     "name": "stderr",
     "output_type": "stream",
     "text": [
      "\n"
     ]
    },
    {
     "name": "stdout",
     "output_type": "stream",
     "text": [
      "Validation Loss: 0.6789\n",
      "F1: 0.6469 | AUC: 0.7864 | Accuracy: 0.5937\n",
      "\n"
     ]
    },
    {
     "name": "stderr",
     "output_type": "stream",
     "text": [
      "Epoch 7/10: 100%|██████████| 56/56 [01:52<00:00,  2.01s/it, loss=0.368]"
     ]
    },
    {
     "name": "stdout",
     "output_type": "stream",
     "text": [
      "\n",
      "Epoch 7 Training Loss: 0.4983\n"
     ]
    },
    {
     "name": "stderr",
     "output_type": "stream",
     "text": [
      "\n"
     ]
    },
    {
     "name": "stdout",
     "output_type": "stream",
     "text": [
      "Validation Loss: 0.7984\n",
      "F1: 0.6716 | AUC: 0.7857 | Accuracy: 0.6183\n",
      "\n"
     ]
    },
    {
     "name": "stderr",
     "output_type": "stream",
     "text": [
      "Epoch 8/10: 100%|██████████| 56/56 [01:53<00:00,  2.03s/it, loss=0.442]"
     ]
    },
    {
     "name": "stdout",
     "output_type": "stream",
     "text": [
      "\n",
      "Epoch 8 Training Loss: 0.4589\n"
     ]
    },
    {
     "name": "stderr",
     "output_type": "stream",
     "text": [
      "\n"
     ]
    },
    {
     "name": "stdout",
     "output_type": "stream",
     "text": [
      "Validation Loss: 0.6234\n",
      "F1: 0.5736 | AUC: 0.8102 | Accuracy: 0.4705\n",
      "\n"
     ]
    },
    {
     "name": "stderr",
     "output_type": "stream",
     "text": [
      "Epoch 9/10: 100%|██████████| 56/56 [01:49<00:00,  1.96s/it, loss=0.542]"
     ]
    },
    {
     "name": "stdout",
     "output_type": "stream",
     "text": [
      "\n",
      "Epoch 9 Training Loss: 0.4076\n"
     ]
    },
    {
     "name": "stderr",
     "output_type": "stream",
     "text": [
      "\n"
     ]
    },
    {
     "name": "stdout",
     "output_type": "stream",
     "text": [
      "Validation Loss: 0.6317\n",
      "F1: 0.5911 | AUC: 0.8005 | Accuracy: 0.4837\n",
      "\n"
     ]
    },
    {
     "name": "stderr",
     "output_type": "stream",
     "text": [
      "Epoch 10/10: 100%|██████████| 56/56 [01:49<00:00,  1.96s/it, loss=0.902]"
     ]
    },
    {
     "name": "stdout",
     "output_type": "stream",
     "text": [
      "\n",
      "Epoch 10 Training Loss: 0.3891\n"
     ]
    },
    {
     "name": "stderr",
     "output_type": "stream",
     "text": [
      "\n"
     ]
    },
    {
     "name": "stdout",
     "output_type": "stream",
     "text": [
      "Validation Loss: 0.7426\n",
      "F1: 0.6822 | AUC: 0.8065 | Accuracy: 0.6174\n",
      "\n"
     ]
    }
   ],
   "source": [
    "import torch\n",
    "device = torch.device(\"cuda:6\" if torch.cuda.is_available() else \"cpu\")\n",
    "torch.backends.cudnn.benchmark = True\n",
    "torch.backends.cudnn.deterministic = False\n",
    "\n",
    "# Train\n",
    "train(model, train_loader, val_loader, device, epochs=10, lr=1e-4, save_path=config.MODEL_FOLDER, file_name=\"PulmoScanX_Group1_Effnet_v2\", pos_weight=pos_weight,\n",
    "      multi_gpu=True, device_ids=[1,2,3])"
   ]
  },
  {
   "cell_type": "code",
   "execution_count": 12,
   "id": "499efd0b",
   "metadata": {},
   "outputs": [
    {
     "name": "stdout",
     "output_type": "stream",
     "text": [
      "\n",
      "Per-Class F1 Scores (with tuned thresholds):\n",
      "             Pathology  F1 Score  Threshold\n",
      "          Pneumothorax  0.842424   0.261163\n",
      "Subcutaneous Emphysema  0.712460   0.707289\n",
      "             Emphysema  0.683168   0.588021\n",
      "      Pneumoperitoneum  0.592593   0.799302\n",
      "     Pneumomediastinum  0.488889   0.953161\n"
     ]
    }
   ],
   "source": [
    "from utils.evaluate import evaluate, evaluate_per_class, evaluate_per_class2\n",
    "model = EfficientNetV2_MultiLabel(num_classes=len(classes_df.columns))\n",
    "model.load_state_dict(torch.load('../models/PulmoScanX_Group1_Effnet_v2_checkpoint.pth'))\n",
    "device = torch.device(\"cuda:6\" if torch.cuda.is_available() else \"cpu\")\n",
    "model.to(device)\n",
    "evals_per_class = evaluate_per_class(model, test_loader, device, list(classes_df.columns))"
   ]
  }
 ],
 "metadata": {
  "kernelspec": {
   "display_name": ".venv",
   "language": "python",
   "name": "python3"
  },
  "language_info": {
   "codemirror_mode": {
    "name": "ipython",
    "version": 3
   },
   "file_extension": ".py",
   "mimetype": "text/x-python",
   "name": "python",
   "nbconvert_exporter": "python",
   "pygments_lexer": "ipython3",
   "version": "3.13.4"
  }
 },
 "nbformat": 4,
 "nbformat_minor": 5
}
