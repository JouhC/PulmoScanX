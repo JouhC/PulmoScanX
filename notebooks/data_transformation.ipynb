{
 "cells": [
  {
   "cell_type": "code",
   "execution_count": 9,
   "id": "fd3628e7",
   "metadata": {},
   "outputs": [],
   "source": [
    "import os\n",
    "import pandas as pd\n",
    "from dotenv import load_dotenv\n",
    "load_dotenv()\n",
    "\n",
    "from pulmoscanx.utils.dataset import ChestXrayDataset \n",
    "from pulmoscanx.utils.transform import train_transform, val_test_transform"
   ]
  },
  {
   "cell_type": "code",
   "execution_count": 6,
   "id": "6223e9c5",
   "metadata": {},
   "outputs": [],
   "source": [
    "ROOT_FOLDER = os.path.dirname(os.getcwd())\n",
    "DATASET_DIR = os.path.join(ROOT_FOLDER, 'datasets')\n",
    "\n",
    "test_path = os.path.join(DATASET_DIR, 'miccai2023_nih-cxr-lt_labels_test.csv')\n",
    "train_path = os.path.join(DATASET_DIR, 'miccai2023_nih-cxr-lt_labels_train.csv')\n",
    "val_path = os.path.join(DATASET_DIR, 'miccai2023_nih-cxr-lt_labels_val.csv')\n",
    "\n",
    "train_dataset = ChestXrayDataset(\n",
    "    csv_path=train_path,\n",
    "    img_dir=os.path.join(DATASET_DIR, 'cxr', 'images'),\n",
    "    transform=None)\n",
    "val_dataset = ChestXrayDataset(\n",
    "    csv_path=val_path,\n",
    "    img_dir=os.path.join(DATASET_DIR, 'cxr', 'images'),\n",
    "    transform=None)\n",
    "test_dataset = ChestXrayDataset(\n",
    "    csv_path=test_path,\n",
    "    img_dir=os.path.join(DATASET_DIR, 'cxr', 'images'),\n",
    "    transform=None)"
   ]
  },
  {
   "cell_type": "code",
   "execution_count": 13,
   "id": "2b950343",
   "metadata": {},
   "outputs": [],
   "source": [
    "from torch.utils.data import ConcatDataset, random_split, DataLoader\n",
    "\n",
    "full_dataset = ConcatDataset([train_dataset, val_dataset, test_dataset])\n",
    "\n",
    "total_size = len(full_dataset)\n",
    "train_size = int(0.7 * total_size)\n",
    "val_size = int(0.15 * total_size)\n",
    "test_size = total_size - train_size - val_size\n",
    "\n",
    "new_train_dataset, new_val_dataset, new_test_dataset = random_split(\n",
    "    full_dataset, [train_size, val_size, test_size]\n",
    ")\n",
    "\n",
    "new_train_dataset.dataset.transform = train_transform\n",
    "new_val_dataset.dataset.transform = val_test_transform\n",
    "new_test_dataset.dataset.transform = val_test_transform\n",
    "\n",
    "train_loader = DataLoader(new_train_dataset, batch_size=32, shuffle=True)\n",
    "val_loader = DataLoader(new_val_dataset, batch_size=32, shuffle=False)\n",
    "test_loader = DataLoader(new_test_dataset, batch_size=32, shuffle=False)"
   ]
  }
 ],
 "metadata": {
  "kernelspec": {
   "display_name": ".venv",
   "language": "python",
   "name": "python3"
  },
  "language_info": {
   "codemirror_mode": {
    "name": "ipython",
    "version": 3
   },
   "file_extension": ".py",
   "mimetype": "text/x-python",
   "name": "python",
   "nbconvert_exporter": "python",
   "pygments_lexer": "ipython3",
   "version": "3.13.4"
  }
 },
 "nbformat": 4,
 "nbformat_minor": 5
}
