{
 "cells": [
  {
   "cell_type": "code",
   "execution_count": null,
   "id": "fd3628e7",
   "metadata": {},
   "outputs": [],
   "source": [
    "import os\n",
    "import pandas as pd\n",
    "import config\n",
    "from utils.dataset import ChestXrayDataset \n",
    "from utils.transform import train_transform, val_test_transform\n",
    "from utils.model import ChestXrayDenseNet121\n",
    "from utils.train import train, validate"
   ]
  },
  {
   "cell_type": "code",
   "execution_count": null,
   "id": "6223e9c5",
   "metadata": {},
   "outputs": [],
   "source": [
    "test_path = os.path.join(config.DATASET_DIR, 'miccai2023_nih-cxr-lt_labels_test.csv')\n",
    "train_path = os.path.join(config.DATASET_DIR, 'miccai2023_nih-cxr-lt_labels_train.csv')\n",
    "val_path = os.path.join(config.DATASET_DIR, 'miccai2023_nih-cxr-lt_labels_val.csv')\n",
    "\n",
    "# Load all CSVs\n",
    "df_train = pd.read_csv(train_path)\n",
    "df_val = pd.read_csv(val_path)\n",
    "df_test = pd.read_csv(test_path)\n",
    "\n",
    "# Combine them\n",
    "full_df = pd.concat([df_train, df_val, df_test], ignore_index=True)"
   ]
  },
  {
   "cell_type": "code",
   "execution_count": 12,
   "id": "3c060a97",
   "metadata": {},
   "outputs": [],
   "source": [
    "classes_df = full_df.drop(columns=['id', 'No Finding', 'subj_id'])"
   ]
  },
  {
   "cell_type": "code",
   "execution_count": 14,
   "id": "bbc37107",
   "metadata": {},
   "outputs": [
    {
     "data": {
      "text/plain": [
       "Atelectasis                   11559\n",
       "Cardiomegaly                   2776\n",
       "Consolidation                  4667\n",
       "Edema                          2303\n",
       "Effusion                      13317\n",
       "Emphysema                      2516\n",
       "Fibrosis                       1686\n",
       "Hernia                          227\n",
       "Infiltration                  19894\n",
       "Mass                           5782\n",
       "Nodule                         6331\n",
       "Pleural Thickening             3385\n",
       "Pneumonia                      1431\n",
       "Pneumothorax                   5302\n",
       "Pneumoperitoneum                316\n",
       "Pneumomediastinum               253\n",
       "Subcutaneous Emphysema         1991\n",
       "Tortuous Aorta                  742\n",
       "Calcification of the Aorta      455\n",
       "dtype: int64"
      ]
     },
     "execution_count": 14,
     "metadata": {},
     "output_type": "execute_result"
    }
   ],
   "source": [
    "classes_df.sum()"
   ]
  },
  {
   "cell_type": "code",
   "execution_count": null,
   "id": "2b950343",
   "metadata": {},
   "outputs": [],
   "source": [
    "from torch.utils.data import random_split, DataLoader, Subset\n",
    "import torch\n",
    "\n",
    "full_dataset = ChestXrayDataset(dataframe=full_df, img_dir=os.path.join(config.DATASET_DIR, 'cxr', 'images'), transform=None)\n",
    "\n",
    "\n",
    "total_size = len(full_dataset)\n",
    "train_size = int(0.7 * total_size)\n",
    "val_size = int(0.15 * total_size)\n",
    "test_size = total_size - train_size - val_size\n",
    "\n",
    "train_subset, val_subset, test_subset = random_split(\n",
    "    full_dataset,\n",
    "    [train_size, val_size, test_size],\n",
    "    generator=torch.Generator().manual_seed(42)\n",
    ")\n",
    "\n",
    "train_dataset = Subset(\n",
    "    ChestXrayDataset(dataframe=full_df, img_dir=os.path.join(config.DATASET_DIR, 'cxr', 'images'), transform=train_transform),\n",
    "    train_subset.indices\n",
    ")\n",
    "\n",
    "val_dataset = Subset(\n",
    "    ChestXrayDataset(dataframe=full_df, img_dir=os.path.join(config.DATASET_DIR, 'cxr', 'images'), transform=val_test_transform),\n",
    "    val_subset.indices\n",
    ")\n",
    "\n",
    "test_dataset = Subset(\n",
    "    ChestXrayDataset(dataframe=full_df, img_dir=os.path.join(config.DATASET_DIR, 'cxr', 'images'), transform=val_test_transform),\n",
    "    test_subset.indices\n",
    ")\n",
    "\n",
    "train_loader = DataLoader(train_dataset, batch_size=32, shuffle=True)\n",
    "val_loader = DataLoader(val_dataset, batch_size=32, shuffle=False)\n",
    "test_loader = DataLoader(test_dataset, batch_size=32, shuffle=False)"
   ]
  },
  {
   "cell_type": "code",
   "execution_count": 4,
   "id": "5e52254c",
   "metadata": {},
   "outputs": [],
   "source": [
    "# Initialize model\n",
    "model = ChestXrayDenseNet121(num_classes=19)"
   ]
  },
  {
   "cell_type": "code",
   "execution_count": 5,
   "id": "0b973d5a",
   "metadata": {},
   "outputs": [
    {
     "name": "stderr",
     "output_type": "stream",
     "text": [
      "Epoch 1/10: 100%|██████████| 2453/2453 [27:28<00:00,  1.49it/s, loss=0.0934]\n"
     ]
    },
    {
     "name": "stdout",
     "output_type": "stream",
     "text": [
      "\n",
      "Epoch 1 Training Loss: 0.1314\n",
      "Validation Loss: 0.1190\n",
      "\n"
     ]
    },
    {
     "name": "stderr",
     "output_type": "stream",
     "text": [
      "Epoch 2/10: 100%|██████████| 2453/2453 [27:33<00:00,  1.48it/s, loss=0.0904]\n"
     ]
    },
    {
     "name": "stdout",
     "output_type": "stream",
     "text": [
      "\n",
      "Epoch 2 Training Loss: 0.1178\n",
      "Validation Loss: 0.1170\n",
      "\n"
     ]
    },
    {
     "name": "stderr",
     "output_type": "stream",
     "text": [
      "Epoch 3/10: 100%|██████████| 2453/2453 [28:02<00:00,  1.46it/s, loss=0.0938]\n"
     ]
    },
    {
     "name": "stdout",
     "output_type": "stream",
     "text": [
      "\n",
      "Epoch 3 Training Loss: 0.1150\n",
      "Validation Loss: 0.1150\n",
      "\n"
     ]
    },
    {
     "name": "stderr",
     "output_type": "stream",
     "text": [
      "Epoch 4/10: 100%|██████████| 2453/2453 [27:39<00:00,  1.48it/s, loss=0.0819]\n"
     ]
    },
    {
     "name": "stdout",
     "output_type": "stream",
     "text": [
      "\n",
      "Epoch 4 Training Loss: 0.1127\n",
      "Validation Loss: 0.1147\n",
      "\n"
     ]
    },
    {
     "name": "stderr",
     "output_type": "stream",
     "text": [
      "Epoch 5/10: 100%|██████████| 2453/2453 [26:46<00:00,  1.53it/s, loss=0.103] \n"
     ]
    },
    {
     "name": "stdout",
     "output_type": "stream",
     "text": [
      "\n",
      "Epoch 5 Training Loss: 0.1108\n",
      "Validation Loss: 0.1148\n",
      "\n"
     ]
    },
    {
     "name": "stderr",
     "output_type": "stream",
     "text": [
      "Epoch 6/10: 100%|██████████| 2453/2453 [30:02<00:00,  1.36it/s, loss=0.1]   \n"
     ]
    },
    {
     "name": "stdout",
     "output_type": "stream",
     "text": [
      "\n",
      "Epoch 6 Training Loss: 0.1088\n",
      "Validation Loss: 0.1138\n",
      "\n"
     ]
    },
    {
     "name": "stderr",
     "output_type": "stream",
     "text": [
      "Epoch 7/10: 100%|██████████| 2453/2453 [38:33<00:00,  1.06it/s, loss=0.144] \n"
     ]
    },
    {
     "name": "stdout",
     "output_type": "stream",
     "text": [
      "\n",
      "Epoch 7 Training Loss: 0.1072\n",
      "Validation Loss: 0.1140\n",
      "\n"
     ]
    },
    {
     "name": "stderr",
     "output_type": "stream",
     "text": [
      "Epoch 8/10: 100%|██████████| 2453/2453 [31:09<00:00,  1.31it/s, loss=0.0655]\n"
     ]
    },
    {
     "name": "stdout",
     "output_type": "stream",
     "text": [
      "\n",
      "Epoch 8 Training Loss: 0.1053\n",
      "Validation Loss: 0.1139\n",
      "\n"
     ]
    },
    {
     "name": "stderr",
     "output_type": "stream",
     "text": [
      "Epoch 9/10: 100%|██████████| 2453/2453 [29:54<00:00,  1.37it/s, loss=0.179] \n"
     ]
    },
    {
     "name": "stdout",
     "output_type": "stream",
     "text": [
      "\n",
      "Epoch 9 Training Loss: 0.1031\n",
      "Validation Loss: 0.1150\n",
      "\n"
     ]
    },
    {
     "name": "stderr",
     "output_type": "stream",
     "text": [
      "Epoch 10/10: 100%|██████████| 2453/2453 [30:03<00:00,  1.36it/s, loss=0.0924]\n"
     ]
    },
    {
     "name": "stdout",
     "output_type": "stream",
     "text": [
      "\n",
      "Epoch 10 Training Loss: 0.1009\n",
      "Validation Loss: 0.1159\n",
      "\n"
     ]
    }
   ],
   "source": [
    "device = torch.device(\"cuda\" if torch.cuda.is_available() else \"cpu\")\n",
    "torch.backends.cudnn.benchmark = True\n",
    "torch.backends.cudnn.deterministic = False\n",
    "\n",
    "# Train\n",
    "train(model, train_loader, val_loader, device, epochs=10, lr=1e-4)"
   ]
  },
  {
   "cell_type": "code",
   "execution_count": 9,
   "id": "36b8a7c4",
   "metadata": {},
   "outputs": [],
   "source": [
    "import config\n",
    "MODEL_FOLDER = os.path.join(config.PROJECT_ROOT, 'models')\n",
    "if not os.path.exists(MODEL_FOLDER):\n",
    "    os.makedirs(MODEL_FOLDER)\n",
    "filepath = os.path.join(MODEL_FOLDER, \"best_model.pth\")\n",
    "torch.save(model.state_dict(), filepath)"
   ]
  },
  {
   "cell_type": "code",
   "execution_count": 16,
   "id": "ebf04476",
   "metadata": {},
   "outputs": [
    {
     "name": "stdout",
     "output_type": "stream",
     "text": [
      "\n",
      "Evaluation Results:\n",
      "Avg Loss   : 0.1145\n",
      "F1 Score   : 0.2101\n",
      "Precision  : 0.3837\n",
      "Recall     : 0.1593\n",
      "Accuracy   : 0.5281\n"
     ]
    },
    {
     "name": "stderr",
     "output_type": "stream",
     "text": [
      "/root/dev/PulmoScanX/.venv/lib/python3.13/site-packages/sklearn/metrics/_classification.py:1706: UndefinedMetricWarning: Precision is ill-defined and being set to 0.0 in labels with no predicted samples. Use `zero_division` parameter to control this behavior.\n",
      "  _warn_prf(average, modifier, f\"{metric.capitalize()} is\", result.shape[0])\n"
     ]
    }
   ],
   "source": [
    "from utils.evaluate import evaluate\n",
    "\n",
    "eval = evaluate(model, test_loader, device)"
   ]
  }
 ],
 "metadata": {
  "kernelspec": {
   "display_name": ".venv",
   "language": "python",
   "name": "python3"
  },
  "language_info": {
   "codemirror_mode": {
    "name": "ipython",
    "version": 3
   },
   "file_extension": ".py",
   "mimetype": "text/x-python",
   "name": "python",
   "nbconvert_exporter": "python",
   "pygments_lexer": "ipython3",
   "version": "3.13.4"
  }
 },
 "nbformat": 4,
 "nbformat_minor": 5
}
