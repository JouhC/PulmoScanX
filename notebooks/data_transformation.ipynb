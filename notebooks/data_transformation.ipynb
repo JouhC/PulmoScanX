{
 "cells": [
  {
   "cell_type": "code",
   "execution_count": 1,
   "id": "fd3628e7",
   "metadata": {},
   "outputs": [],
   "source": [
    "import os\n",
    "import pandas as pd\n",
    "from dotenv import load_dotenv\n",
    "load_dotenv()\n",
    "\n",
    "from pulmoscanx.utils.dataset import ChestXrayDataset "
   ]
  },
  {
   "cell_type": "code",
   "execution_count": 4,
   "id": "6223e9c5",
   "metadata": {},
   "outputs": [
    {
     "ename": "TypeError",
     "evalue": "ChestXrayDataset.__init__() got an unexpected keyword argument 'csv_file'",
     "output_type": "error",
     "traceback": [
      "\u001b[31m---------------------------------------------------------------------------\u001b[39m",
      "\u001b[31mTypeError\u001b[39m                                 Traceback (most recent call last)",
      "\u001b[36mCell\u001b[39m\u001b[36m \u001b[39m\u001b[32mIn[4]\u001b[39m\u001b[32m, line 8\u001b[39m\n\u001b[32m      5\u001b[39m train_path = os.path.join(DATASET_DIR, \u001b[33m'\u001b[39m\u001b[33mmiccai2023_nih-cxr-lt_labels_train.csv\u001b[39m\u001b[33m'\u001b[39m)\n\u001b[32m      6\u001b[39m val_path = os.path.join(DATASET_DIR, \u001b[33m'\u001b[39m\u001b[33mmiccai2023_nih-cxr-lt_labels_val.csv\u001b[39m\u001b[33m'\u001b[39m)\n\u001b[32m----> \u001b[39m\u001b[32m8\u001b[39m train_dataset = \u001b[43mChestXrayDataset\u001b[49m\u001b[43m(\u001b[49m\n\u001b[32m      9\u001b[39m \u001b[43m    \u001b[49m\u001b[43mcsv_file\u001b[49m\u001b[43m=\u001b[49m\u001b[43mtrain_path\u001b[49m\u001b[43m,\u001b[49m\n\u001b[32m     10\u001b[39m \u001b[43m    \u001b[49m\u001b[43mroot_dir\u001b[49m\u001b[43m=\u001b[49m\u001b[43mos\u001b[49m\u001b[43m.\u001b[49m\u001b[43mpath\u001b[49m\u001b[43m.\u001b[49m\u001b[43mjoin\u001b[49m\u001b[43m(\u001b[49m\u001b[43mDATASET_DIR\u001b[49m\u001b[43m,\u001b[49m\u001b[43m \u001b[49m\u001b[33;43m'\u001b[39;49m\u001b[33;43mcxr\u001b[39;49m\u001b[33;43m'\u001b[39;49m\u001b[43m,\u001b[49m\u001b[43m \u001b[49m\u001b[33;43m'\u001b[39;49m\u001b[33;43mimages\u001b[39;49m\u001b[33;43m'\u001b[39;49m\u001b[43m)\u001b[49m\u001b[43m,\u001b[49m\n\u001b[32m     11\u001b[39m \u001b[43m    \u001b[49m\u001b[43mtransform\u001b[49m\u001b[43m=\u001b[49m\u001b[38;5;28;43;01mNone\u001b[39;49;00m\u001b[43m)\u001b[49m\n\u001b[32m     12\u001b[39m \u001b[38;5;66;03m#val_dataset = \u001b[39;00m\n\u001b[32m     13\u001b[39m \u001b[38;5;66;03m#test_dataset = \u001b[39;00m\n",
      "\u001b[31mTypeError\u001b[39m: ChestXrayDataset.__init__() got an unexpected keyword argument 'csv_file'"
     ]
    }
   ],
   "source": [
    "ROOT_FOLDER = os.path.dirname(os.getcwd())\n",
    "DATASET_DIR = os.path.join(ROOT_FOLDER, 'datasets')\n",
    "\n",
    "test_path = os.path.join(DATASET_DIR, 'miccai2023_nih-cxr-lt_labels_test.csv')\n",
    "train_path = os.path.join(DATASET_DIR, 'miccai2023_nih-cxr-lt_labels_train.csv')\n",
    "val_path = os.path.join(DATASET_DIR, 'miccai2023_nih-cxr-lt_labels_val.csv')\n",
    "\n",
    "train_dataset = ChestXrayDataset(\n",
    "    csv_file=train_path,\n",
    "    root_dir=os.path.join(DATASET_DIR, 'cxr', 'images'),\n",
    "    transform=None)\n",
    "#val_dataset = \n",
    "#test_dataset = "
   ]
  },
  {
   "cell_type": "code",
   "execution_count": null,
   "id": "cff0d7d4",
   "metadata": {},
   "outputs": [],
   "source": []
  },
  {
   "cell_type": "code",
   "execution_count": null,
   "id": "2b950343",
   "metadata": {},
   "outputs": [
    {
     "name": "stdout",
     "output_type": "stream",
     "text": [
      "<class 'pandas.core.frame.DataFrame'>\n",
      "RangeIndex: 21081 entries, 0 to 21080\n",
      "Data columns (total 22 columns):\n",
      " #   Column                      Non-Null Count  Dtype \n",
      "---  ------                      --------------  ----- \n",
      " 0   id                          21081 non-null  object\n",
      " 1   Atelectasis                 21081 non-null  int64 \n",
      " 2   Cardiomegaly                21081 non-null  int64 \n",
      " 3   Consolidation               21081 non-null  int64 \n",
      " 4   Edema                       21081 non-null  int64 \n",
      " 5   Effusion                    21081 non-null  int64 \n",
      " 6   Emphysema                   21081 non-null  int64 \n",
      " 7   Fibrosis                    21081 non-null  int64 \n",
      " 8   Hernia                      21081 non-null  int64 \n",
      " 9   Infiltration                21081 non-null  int64 \n",
      " 10  Mass                        21081 non-null  int64 \n",
      " 11  Nodule                      21081 non-null  int64 \n",
      " 12  Pleural Thickening          21081 non-null  int64 \n",
      " 13  Pneumonia                   21081 non-null  int64 \n",
      " 14  Pneumothorax                21081 non-null  int64 \n",
      " 15  Pneumoperitoneum            21081 non-null  int64 \n",
      " 16  Pneumomediastinum           21081 non-null  int64 \n",
      " 17  Subcutaneous Emphysema      21081 non-null  int64 \n",
      " 18  Tortuous Aorta              21081 non-null  int64 \n",
      " 19  Calcification of the Aorta  21081 non-null  int64 \n",
      " 20  No Finding                  21081 non-null  int64 \n",
      " 21  subj_id                     21081 non-null  int64 \n",
      "dtypes: int64(21), object(1)\n",
      "memory usage: 3.5+ MB\n"
     ]
    }
   ],
   "source": [
    "from torch.utils.data import ConcatDataset\n",
    "\n",
    "full_dataset = ConcatDataset([train_dataset, val_dataset, test_dataset])"
   ]
  },
  {
   "cell_type": "code",
   "execution_count": null,
   "id": "2fefeca2",
   "metadata": {},
   "outputs": [],
   "source": []
  }
 ],
 "metadata": {
  "kernelspec": {
   "display_name": ".venv",
   "language": "python",
   "name": "python3"
  },
  "language_info": {
   "codemirror_mode": {
    "name": "ipython",
    "version": 3
   },
   "file_extension": ".py",
   "mimetype": "text/x-python",
   "name": "python",
   "nbconvert_exporter": "python",
   "pygments_lexer": "ipython3",
   "version": "3.13.4"
  }
 },
 "nbformat": 4,
 "nbformat_minor": 5
}
