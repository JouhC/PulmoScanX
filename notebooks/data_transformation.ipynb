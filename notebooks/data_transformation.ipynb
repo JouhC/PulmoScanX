{
 "cells": [
  {
   "cell_type": "code",
   "execution_count": 1,
   "id": "fd3628e7",
   "metadata": {},
   "outputs": [],
   "source": [
    "import os\n",
    "import pandas as pd\n",
    "from config import DATASET_DIR\n",
    "from utils.dataset import ChestXrayDataset \n",
    "from utils.transform import train_transform, val_test_transform\n",
    "from utils.model import ChestXrayDenseNet121\n",
    "from utils.train import train, validate"
   ]
  },
  {
   "cell_type": "code",
   "execution_count": 2,
   "id": "6223e9c5",
   "metadata": {},
   "outputs": [],
   "source": [
    "test_path = os.path.join(DATASET_DIR, 'miccai2023_nih-cxr-lt_labels_test.csv')\n",
    "train_path = os.path.join(DATASET_DIR, 'miccai2023_nih-cxr-lt_labels_train.csv')\n",
    "val_path = os.path.join(DATASET_DIR, 'miccai2023_nih-cxr-lt_labels_val.csv')\n",
    "\n",
    "# Load all CSVs\n",
    "df_train = pd.read_csv(train_path)\n",
    "df_val = pd.read_csv(val_path)\n",
    "df_test = pd.read_csv(test_path)\n",
    "\n",
    "# Combine them\n",
    "full_df = pd.concat([df_train, df_val, df_test], ignore_index=True)"
   ]
  },
  {
   "cell_type": "code",
   "execution_count": 3,
   "id": "2b950343",
   "metadata": {},
   "outputs": [],
   "source": [
    "from torch.utils.data import random_split, DataLoader, Subset\n",
    "import torch\n",
    "\n",
    "full_dataset = ChestXrayDataset(dataframe=full_df, img_dir=os.path.join(DATASET_DIR, 'cxr', 'images'), transform=None)\n",
    "\n",
    "\n",
    "total_size = len(full_dataset)\n",
    "train_size = int(0.7 * total_size)\n",
    "val_size = int(0.15 * total_size)\n",
    "test_size = total_size - train_size - val_size\n",
    "\n",
    "train_subset, val_subset, test_subset = random_split(\n",
    "    full_dataset,\n",
    "    [train_size, val_size, test_size],\n",
    "    generator=torch.Generator().manual_seed(42)\n",
    ")\n",
    "\n",
    "train_dataset = Subset(\n",
    "    ChestXrayDataset(dataframe=full_df, img_dir=os.path.join(DATASET_DIR, 'cxr', 'images'), transform=train_transform),\n",
    "    train_subset.indices\n",
    ")\n",
    "\n",
    "val_dataset = Subset(\n",
    "    ChestXrayDataset(dataframe=full_df, img_dir=os.path.join(DATASET_DIR, 'cxr', 'images'), transform=val_test_transform),\n",
    "    val_subset.indices\n",
    ")\n",
    "\n",
    "test_dataset = Subset(\n",
    "    ChestXrayDataset(dataframe=full_df, img_dir=os.path.join(DATASET_DIR, 'cxr', 'images'), transform=val_test_transform),\n",
    "    test_subset.indices\n",
    ")\n",
    "\n",
    "train_loader = DataLoader(train_dataset, batch_size=32, shuffle=True)\n",
    "val_loader = DataLoader(val_dataset, batch_size=32, shuffle=False)\n",
    "test_loader = DataLoader(test_dataset, batch_size=32, shuffle=False)"
   ]
  },
  {
   "cell_type": "code",
   "execution_count": 4,
   "id": "5e52254c",
   "metadata": {},
   "outputs": [],
   "source": [
    "# Initialize model\n",
    "model = ChestXrayDenseNet121(num_classes=19)"
   ]
  },
  {
   "cell_type": "code",
   "execution_count": null,
   "id": "0b973d5a",
   "metadata": {},
   "outputs": [
    {
     "name": "stderr",
     "output_type": "stream",
     "text": [
      "Epoch 1/10:  49%|████▉     | 1196/2453 [13:19<13:42,  1.53it/s, loss=0.101] "
     ]
    }
   ],
   "source": [
    "device = torch.device(\"cuda\" if torch.cuda.is_available() else \"cpu\")\n",
    "\n",
    "# Train\n",
    "train(model, train_loader, val_loader, device, epochs=10, lr=1e-4)"
   ]
  }
 ],
 "metadata": {
  "kernelspec": {
   "display_name": ".venv",
   "language": "python",
   "name": "python3"
  },
  "language_info": {
   "codemirror_mode": {
    "name": "ipython",
    "version": 3
   },
   "file_extension": ".py",
   "mimetype": "text/x-python",
   "name": "python",
   "nbconvert_exporter": "python",
   "pygments_lexer": "ipython3",
   "version": "3.13.4"
  }
 },
 "nbformat": 4,
 "nbformat_minor": 5
}
