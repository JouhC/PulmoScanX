{
 "cells": [
  {
   "cell_type": "code",
   "execution_count": null,
   "id": "fd3628e7",
   "metadata": {},
   "outputs": [],
   "source": [
    "import os\n",
    "import pandas as pd\n",
    "from src import "
   ]
  },
  {
   "cell_type": "code",
   "execution_count": null,
   "id": "6223e9c5",
   "metadata": {},
   "outputs": [],
   "source": [
    "ROOT_FOLDER = os.path.dirname(os.getcwd())\n",
    "DATASET_DIR = os.path.join(ROOT_FOLDER, 'datasets')\n",
    "\n",
    "test_path = os.path.join(DATASET_DIR, 'miccai2023_nih-cxr-lt_labels_test.csv')\n",
    "train_path = os.path.join(DATASET_DIR, 'miccai2023_nih-cxr-lt_labels_train.csv')\n",
    "val_path = os.path.join(DATASET_DIR, 'miccai2023_nih-cxr-lt_labels_val.csv')\n",
    "\n",
    "train_dataset = \n",
    "val_dataset = \n",
    "test_dataset = "
   ]
  },
  {
   "cell_type": "code",
   "execution_count": null,
   "id": "cff0d7d4",
   "metadata": {},
   "outputs": [],
   "source": []
  },
  {
   "cell_type": "code",
   "execution_count": null,
   "id": "2b950343",
   "metadata": {},
   "outputs": [
    {
     "name": "stdout",
     "output_type": "stream",
     "text": [
      "<class 'pandas.core.frame.DataFrame'>\n",
      "RangeIndex: 21081 entries, 0 to 21080\n",
      "Data columns (total 22 columns):\n",
      " #   Column                      Non-Null Count  Dtype \n",
      "---  ------                      --------------  ----- \n",
      " 0   id                          21081 non-null  object\n",
      " 1   Atelectasis                 21081 non-null  int64 \n",
      " 2   Cardiomegaly                21081 non-null  int64 \n",
      " 3   Consolidation               21081 non-null  int64 \n",
      " 4   Edema                       21081 non-null  int64 \n",
      " 5   Effusion                    21081 non-null  int64 \n",
      " 6   Emphysema                   21081 non-null  int64 \n",
      " 7   Fibrosis                    21081 non-null  int64 \n",
      " 8   Hernia                      21081 non-null  int64 \n",
      " 9   Infiltration                21081 non-null  int64 \n",
      " 10  Mass                        21081 non-null  int64 \n",
      " 11  Nodule                      21081 non-null  int64 \n",
      " 12  Pleural Thickening          21081 non-null  int64 \n",
      " 13  Pneumonia                   21081 non-null  int64 \n",
      " 14  Pneumothorax                21081 non-null  int64 \n",
      " 15  Pneumoperitoneum            21081 non-null  int64 \n",
      " 16  Pneumomediastinum           21081 non-null  int64 \n",
      " 17  Subcutaneous Emphysema      21081 non-null  int64 \n",
      " 18  Tortuous Aorta              21081 non-null  int64 \n",
      " 19  Calcification of the Aorta  21081 non-null  int64 \n",
      " 20  No Finding                  21081 non-null  int64 \n",
      " 21  subj_id                     21081 non-null  int64 \n",
      "dtypes: int64(21), object(1)\n",
      "memory usage: 3.5+ MB\n"
     ]
    }
   ],
   "source": [
    "from torch.utils.data import ConcatDataset\n",
    "\n",
    "full_dataset = ConcatDataset([train_dataset, val_dataset, test_dataset])"
   ]
  },
  {
   "cell_type": "code",
   "execution_count": null,
   "id": "2fefeca2",
   "metadata": {},
   "outputs": [],
   "source": []
  }
 ],
 "metadata": {
  "kernelspec": {
   "display_name": ".venv",
   "language": "python",
   "name": "python3"
  },
  "language_info": {
   "codemirror_mode": {
    "name": "ipython",
    "version": 3
   },
   "file_extension": ".py",
   "mimetype": "text/x-python",
   "name": "python",
   "nbconvert_exporter": "python",
   "pygments_lexer": "ipython3",
   "version": "3.13.4"
  }
 },
 "nbformat": 4,
 "nbformat_minor": 5
}
